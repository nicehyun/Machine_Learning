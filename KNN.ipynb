{
 "cells": [
  {
   "metadata": {},
   "cell_type": "markdown",
   "source": [
    "# Titanic 데이터셋 소개\n",
    "\n",
    "Titanic 데이터셋은 1912년 타이타닉호 침몰 사건 당시의 승객 정보와 생존 여부를 포함한 데이터셋으로, 생존 예측 모델을 훈련하는 데 자주 사용된다.\n",
    "\n",
    "## 데이터셋의 구성\n",
    "\n",
    "Titanic 데이터셋은 다음과 같은 주요 특징들을 포함합니다.\n",
    "\n",
    "- **데이터 수**: 891개의 데이터 포인트(레코드)가 있다.\n",
    "- **변수 수**: 총 12개의 변수(컬럼)가 포함되어 있다.\n",
    "\n",
    "## 변수 설명\n",
    "\n",
    "| 변수            | 설명                                                                 | 변수 유형             | 비고                            |\n",
    "|-----------------|----------------------------------------------------------------------|-----------------------|---------------------------------|\n",
    "| `Survived`      | 승객의 생존 여부를 나타낸다. 0은 사망, 1은 생존을 의미한다.         | 범주형 변수            | 예측 목표                       |\n",
    "| `Pclass`        | 승객의 티켓 등급을 나타낸다. 1, 2, 3의 세 가지 등급이 있다.         | 범주형 변수            | 1: 1등석, 2: 2등석, 3: 3등석    |\n",
    "| `Name`          | 승객의 이름을 나타낸다.                                             | 문자열 변수            | 이름 및 호칭 포함               |\n",
    "| `Sex`           | 승객의 성별을 나타낸다.                                              | 범주형 변수            | 남성, 여성                      |\n",
    "| `Age`           | 승객의 나이를 나타낸다.                                             | 연속형 변수            | 결측치 포함 가능                |\n",
    "| `SibSp`         | 승선한 형제 또는 배우자의 수를 나타낸다.                             | 연속형 변수            | 정수 값으로 표현                |\n",
    "| `Parch`         | 승선한 부모 또는 자녀의 수를 나타낸다.                               | 연속형 변수            | 정수 값으로 표현                |\n",
    "| `Ticket`        | 티켓 번호를 나타낸다.                                                | 문자열 변수            | 고유한 티켓 번호                |\n",
    "| `Fare`          | 티켓 요금을 나타낸다.                                               | 연속형 변수            | 실수 값으로 표현                |\n",
    "| `Cabin`         | 선실 번호를 나타낸다.                                                | 문자열 변수            | 결측치 포함 가능                |\n",
    "| `Embarked`      | 승선한 항구를 나타낸다. C: Cherbourg, Q: Queenstown, S: Southampton | 범주형 변수            | C, Q, S                         |\n"
   ],
   "id": "d704d398de33a140"
  },
  {
   "metadata": {},
   "cell_type": "markdown",
   "source": [
    "# Step 1 - 데이터 준비\n",
    "\n",
    "우선 `seaborn` 라이브러리에서 제공하는 `titanic` 데이터셋을 가져온다."
   ],
   "id": "cff306feb410f054"
  },
  {
   "metadata": {},
   "cell_type": "code",
   "outputs": [
    {
     "data": {
      "text/plain": [
       "   survived  pclass     sex   age  sibsp  parch     fare embarked  class  \\\n",
       "0         0       3    male  22.0      1      0   7.2500        S  Third   \n",
       "1         1       1  female  38.0      1      0  71.2833        C  First   \n",
       "2         1       3  female  26.0      0      0   7.9250        S  Third   \n",
       "3         1       1  female  35.0      1      0  53.1000        S  First   \n",
       "4         0       3    male  35.0      0      0   8.0500        S  Third   \n",
       "\n",
       "     who  adult_male deck  embark_town alive  alone  \n",
       "0    man        True  NaN  Southampton    no  False  \n",
       "1  woman       False    C    Cherbourg   yes  False  \n",
       "2  woman       False  NaN  Southampton   yes   True  \n",
       "3  woman       False    C  Southampton   yes  False  \n",
       "4    man        True  NaN  Southampton    no   True  "
      ],
      "text/html": [
       "<div>\n",
       "<style scoped>\n",
       "    .dataframe tbody tr th:only-of-type {\n",
       "        vertical-align: middle;\n",
       "    }\n",
       "\n",
       "    .dataframe tbody tr th {\n",
       "        vertical-align: top;\n",
       "    }\n",
       "\n",
       "    .dataframe thead th {\n",
       "        text-align: right;\n",
       "    }\n",
       "</style>\n",
       "<table border=\"1\" class=\"dataframe\">\n",
       "  <thead>\n",
       "    <tr style=\"text-align: right;\">\n",
       "      <th></th>\n",
       "      <th>survived</th>\n",
       "      <th>pclass</th>\n",
       "      <th>sex</th>\n",
       "      <th>age</th>\n",
       "      <th>sibsp</th>\n",
       "      <th>parch</th>\n",
       "      <th>fare</th>\n",
       "      <th>embarked</th>\n",
       "      <th>class</th>\n",
       "      <th>who</th>\n",
       "      <th>adult_male</th>\n",
       "      <th>deck</th>\n",
       "      <th>embark_town</th>\n",
       "      <th>alive</th>\n",
       "      <th>alone</th>\n",
       "    </tr>\n",
       "  </thead>\n",
       "  <tbody>\n",
       "    <tr>\n",
       "      <th>0</th>\n",
       "      <td>0</td>\n",
       "      <td>3</td>\n",
       "      <td>male</td>\n",
       "      <td>22.0</td>\n",
       "      <td>1</td>\n",
       "      <td>0</td>\n",
       "      <td>7.2500</td>\n",
       "      <td>S</td>\n",
       "      <td>Third</td>\n",
       "      <td>man</td>\n",
       "      <td>True</td>\n",
       "      <td>NaN</td>\n",
       "      <td>Southampton</td>\n",
       "      <td>no</td>\n",
       "      <td>False</td>\n",
       "    </tr>\n",
       "    <tr>\n",
       "      <th>1</th>\n",
       "      <td>1</td>\n",
       "      <td>1</td>\n",
       "      <td>female</td>\n",
       "      <td>38.0</td>\n",
       "      <td>1</td>\n",
       "      <td>0</td>\n",
       "      <td>71.2833</td>\n",
       "      <td>C</td>\n",
       "      <td>First</td>\n",
       "      <td>woman</td>\n",
       "      <td>False</td>\n",
       "      <td>C</td>\n",
       "      <td>Cherbourg</td>\n",
       "      <td>yes</td>\n",
       "      <td>False</td>\n",
       "    </tr>\n",
       "    <tr>\n",
       "      <th>2</th>\n",
       "      <td>1</td>\n",
       "      <td>3</td>\n",
       "      <td>female</td>\n",
       "      <td>26.0</td>\n",
       "      <td>0</td>\n",
       "      <td>0</td>\n",
       "      <td>7.9250</td>\n",
       "      <td>S</td>\n",
       "      <td>Third</td>\n",
       "      <td>woman</td>\n",
       "      <td>False</td>\n",
       "      <td>NaN</td>\n",
       "      <td>Southampton</td>\n",
       "      <td>yes</td>\n",
       "      <td>True</td>\n",
       "    </tr>\n",
       "    <tr>\n",
       "      <th>3</th>\n",
       "      <td>1</td>\n",
       "      <td>1</td>\n",
       "      <td>female</td>\n",
       "      <td>35.0</td>\n",
       "      <td>1</td>\n",
       "      <td>0</td>\n",
       "      <td>53.1000</td>\n",
       "      <td>S</td>\n",
       "      <td>First</td>\n",
       "      <td>woman</td>\n",
       "      <td>False</td>\n",
       "      <td>C</td>\n",
       "      <td>Southampton</td>\n",
       "      <td>yes</td>\n",
       "      <td>False</td>\n",
       "    </tr>\n",
       "    <tr>\n",
       "      <th>4</th>\n",
       "      <td>0</td>\n",
       "      <td>3</td>\n",
       "      <td>male</td>\n",
       "      <td>35.0</td>\n",
       "      <td>0</td>\n",
       "      <td>0</td>\n",
       "      <td>8.0500</td>\n",
       "      <td>S</td>\n",
       "      <td>Third</td>\n",
       "      <td>man</td>\n",
       "      <td>True</td>\n",
       "      <td>NaN</td>\n",
       "      <td>Southampton</td>\n",
       "      <td>no</td>\n",
       "      <td>True</td>\n",
       "    </tr>\n",
       "  </tbody>\n",
       "</table>\n",
       "</div>"
      ]
     },
     "execution_count": 71,
     "metadata": {},
     "output_type": "execute_result"
    }
   ],
   "execution_count": 71,
   "source": [
    "import pandas as pd\n",
    "import numpy as np\n",
    "import matplotlib.pyplot as plt\n",
    "import seaborn as sns\n",
    "\n",
    "'''\n",
    "[Step 1] 데이터 준비 - Seaborn에서 제공하는 titanic 데이터셋 가져오기\n",
    "'''\n",
    "\n",
    "# load_dataset 함수를 사용하여 데이터프레임으로 변환\n",
    "df = sns.load_dataset('titanic')\n",
    "\n",
    "df.head()"
   ],
   "id": "initial_id"
  },
  {
   "metadata": {},
   "cell_type": "markdown",
   "source": [
    "# Step 2 - 데이터 탐색\n",
    "`info()` 메서드를 사용하여 데이터의 자료형과 개수를 확인한 결과, `age`, `embarked`, `deck` 등 일부 열에 누락데이터가 포함된 것을 확인할 수 있다. 데이터의 특성과 분석 목표에 맞춰 누락 데이터를 처리해야 한다."
   ],
   "id": "79e150239b78a079"
  },
  {
   "metadata": {},
   "cell_type": "code",
   "outputs": [
    {
     "name": "stdout",
     "output_type": "stream",
     "text": [
      "<class 'pandas.core.frame.DataFrame'>\n",
      "RangeIndex: 891 entries, 0 to 890\n",
      "Data columns (total 15 columns):\n",
      " #   Column       Non-Null Count  Dtype   \n",
      "---  ------       --------------  -----   \n",
      " 0   survived     891 non-null    int64   \n",
      " 1   pclass       891 non-null    int64   \n",
      " 2   sex          891 non-null    object  \n",
      " 3   age          714 non-null    float64 \n",
      " 4   sibsp        891 non-null    int64   \n",
      " 5   parch        891 non-null    int64   \n",
      " 6   fare         891 non-null    float64 \n",
      " 7   embarked     889 non-null    object  \n",
      " 8   class        891 non-null    category\n",
      " 9   who          891 non-null    object  \n",
      " 10  adult_male   891 non-null    bool    \n",
      " 11  deck         203 non-null    category\n",
      " 12  embark_town  889 non-null    object  \n",
      " 13  alive        891 non-null    object  \n",
      " 14  alone        891 non-null    bool    \n",
      "dtypes: bool(2), category(2), float64(2), int64(4), object(5)\n",
      "memory usage: 80.7+ KB\n"
     ]
    }
   ],
   "execution_count": 72,
   "source": [
    "'''\n",
    "[Step 2] 데이터 탐색\n",
    "'''\n",
    "\n",
    "# 데이터 자료형 확인\n",
    "df.info()"
   ],
   "id": "2669433831a2826a"
  },
  {
   "metadata": {},
   "cell_type": "markdown",
   "source": "`describe()` 메서드를 사용해서 데이터의 요약 정보를 확인한다. 중심 경향과 분산, 이상치 존재 여부 등을 염두에 두고 파악한다. 요금(`fare`) 열의 최대값이 512.3인데 평균이나 중앙값에 비해 매우 큰 값이므로 이상치 여부를 분석할 필요가 있다.",
   "id": "9b65ac1e475a7c17"
  },
  {
   "metadata": {},
   "cell_type": "code",
   "outputs": [
    {
     "data": {
      "text/plain": [
       "         survived      pclass         age       sibsp       parch        fare\n",
       "count  891.000000  891.000000  714.000000  891.000000  891.000000  891.000000\n",
       "mean     0.383838    2.308642   29.699118    0.523008    0.381594   32.204208\n",
       "std      0.486592    0.836071   14.526497    1.102743    0.806057   49.693429\n",
       "min      0.000000    1.000000    0.420000    0.000000    0.000000    0.000000\n",
       "25%      0.000000    2.000000   20.125000    0.000000    0.000000    7.910400\n",
       "50%      0.000000    3.000000   28.000000    0.000000    0.000000   14.454200\n",
       "75%      1.000000    3.000000   38.000000    1.000000    0.000000   31.000000\n",
       "max      1.000000    3.000000   80.000000    8.000000    6.000000  512.329200"
      ],
      "text/html": [
       "<div>\n",
       "<style scoped>\n",
       "    .dataframe tbody tr th:only-of-type {\n",
       "        vertical-align: middle;\n",
       "    }\n",
       "\n",
       "    .dataframe tbody tr th {\n",
       "        vertical-align: top;\n",
       "    }\n",
       "\n",
       "    .dataframe thead th {\n",
       "        text-align: right;\n",
       "    }\n",
       "</style>\n",
       "<table border=\"1\" class=\"dataframe\">\n",
       "  <thead>\n",
       "    <tr style=\"text-align: right;\">\n",
       "      <th></th>\n",
       "      <th>survived</th>\n",
       "      <th>pclass</th>\n",
       "      <th>age</th>\n",
       "      <th>sibsp</th>\n",
       "      <th>parch</th>\n",
       "      <th>fare</th>\n",
       "    </tr>\n",
       "  </thead>\n",
       "  <tbody>\n",
       "    <tr>\n",
       "      <th>count</th>\n",
       "      <td>891.000000</td>\n",
       "      <td>891.000000</td>\n",
       "      <td>714.000000</td>\n",
       "      <td>891.000000</td>\n",
       "      <td>891.000000</td>\n",
       "      <td>891.000000</td>\n",
       "    </tr>\n",
       "    <tr>\n",
       "      <th>mean</th>\n",
       "      <td>0.383838</td>\n",
       "      <td>2.308642</td>\n",
       "      <td>29.699118</td>\n",
       "      <td>0.523008</td>\n",
       "      <td>0.381594</td>\n",
       "      <td>32.204208</td>\n",
       "    </tr>\n",
       "    <tr>\n",
       "      <th>std</th>\n",
       "      <td>0.486592</td>\n",
       "      <td>0.836071</td>\n",
       "      <td>14.526497</td>\n",
       "      <td>1.102743</td>\n",
       "      <td>0.806057</td>\n",
       "      <td>49.693429</td>\n",
       "    </tr>\n",
       "    <tr>\n",
       "      <th>min</th>\n",
       "      <td>0.000000</td>\n",
       "      <td>1.000000</td>\n",
       "      <td>0.420000</td>\n",
       "      <td>0.000000</td>\n",
       "      <td>0.000000</td>\n",
       "      <td>0.000000</td>\n",
       "    </tr>\n",
       "    <tr>\n",
       "      <th>25%</th>\n",
       "      <td>0.000000</td>\n",
       "      <td>2.000000</td>\n",
       "      <td>20.125000</td>\n",
       "      <td>0.000000</td>\n",
       "      <td>0.000000</td>\n",
       "      <td>7.910400</td>\n",
       "    </tr>\n",
       "    <tr>\n",
       "      <th>50%</th>\n",
       "      <td>0.000000</td>\n",
       "      <td>3.000000</td>\n",
       "      <td>28.000000</td>\n",
       "      <td>0.000000</td>\n",
       "      <td>0.000000</td>\n",
       "      <td>14.454200</td>\n",
       "    </tr>\n",
       "    <tr>\n",
       "      <th>75%</th>\n",
       "      <td>1.000000</td>\n",
       "      <td>3.000000</td>\n",
       "      <td>38.000000</td>\n",
       "      <td>1.000000</td>\n",
       "      <td>0.000000</td>\n",
       "      <td>31.000000</td>\n",
       "    </tr>\n",
       "    <tr>\n",
       "      <th>max</th>\n",
       "      <td>1.000000</td>\n",
       "      <td>3.000000</td>\n",
       "      <td>80.000000</td>\n",
       "      <td>8.000000</td>\n",
       "      <td>6.000000</td>\n",
       "      <td>512.329200</td>\n",
       "    </tr>\n",
       "  </tbody>\n",
       "</table>\n",
       "</div>"
      ]
     },
     "execution_count": 73,
     "metadata": {},
     "output_type": "execute_result"
    }
   ],
   "execution_count": 73,
   "source": [
    "# 데이터 통계 요약정보 확인\n",
    "df.describe()"
   ],
   "id": "e5d5af1f941294ef"
  },
  {
   "metadata": {},
   "cell_type": "markdown",
   "source": [
    "`describe()` 메서드로 데이터의 요약 통계를 확인할 때는 기본적으로 숫자형 데이터에 대해서만 처리한다. 범주형 또는 문자열 변수를 포함하고 싶은 경우에는 `include='object'` 매개변수를 설정해야 한다.\n",
    "\n",
    "남성 승객이 577명으로 여성 승객보다 많고, 대부분 Southampton 도시에서 탑승하였다."
   ],
   "id": "858652b48de5d37d"
  },
  {
   "metadata": {},
   "cell_type": "code",
   "outputs": [
    {
     "data": {
      "text/plain": [
       "         sex embarked  who  embark_town alive\n",
       "count    891      889  891          889   891\n",
       "unique     2        3    3            3     2\n",
       "top     male        S  man  Southampton    no\n",
       "freq     577      644  537          644   549"
      ],
      "text/html": [
       "<div>\n",
       "<style scoped>\n",
       "    .dataframe tbody tr th:only-of-type {\n",
       "        vertical-align: middle;\n",
       "    }\n",
       "\n",
       "    .dataframe tbody tr th {\n",
       "        vertical-align: top;\n",
       "    }\n",
       "\n",
       "    .dataframe thead th {\n",
       "        text-align: right;\n",
       "    }\n",
       "</style>\n",
       "<table border=\"1\" class=\"dataframe\">\n",
       "  <thead>\n",
       "    <tr style=\"text-align: right;\">\n",
       "      <th></th>\n",
       "      <th>sex</th>\n",
       "      <th>embarked</th>\n",
       "      <th>who</th>\n",
       "      <th>embark_town</th>\n",
       "      <th>alive</th>\n",
       "    </tr>\n",
       "  </thead>\n",
       "  <tbody>\n",
       "    <tr>\n",
       "      <th>count</th>\n",
       "      <td>891</td>\n",
       "      <td>889</td>\n",
       "      <td>891</td>\n",
       "      <td>889</td>\n",
       "      <td>891</td>\n",
       "    </tr>\n",
       "    <tr>\n",
       "      <th>unique</th>\n",
       "      <td>2</td>\n",
       "      <td>3</td>\n",
       "      <td>3</td>\n",
       "      <td>3</td>\n",
       "      <td>2</td>\n",
       "    </tr>\n",
       "    <tr>\n",
       "      <th>top</th>\n",
       "      <td>male</td>\n",
       "      <td>S</td>\n",
       "      <td>man</td>\n",
       "      <td>Southampton</td>\n",
       "      <td>no</td>\n",
       "    </tr>\n",
       "    <tr>\n",
       "      <th>freq</th>\n",
       "      <td>577</td>\n",
       "      <td>644</td>\n",
       "      <td>537</td>\n",
       "      <td>644</td>\n",
       "      <td>549</td>\n",
       "    </tr>\n",
       "  </tbody>\n",
       "</table>\n",
       "</div>"
      ]
     },
     "execution_count": 74,
     "metadata": {},
     "output_type": "execute_result"
    }
   ],
   "execution_count": 74,
   "source": [
    "# 데이터 통계 요약정보 확인 (범주형)\n",
    "df.describe(include='object')"
   ],
   "id": "5ab410589ddd4cd2"
  },
  {
   "metadata": {},
   "cell_type": "markdown",
   "source": "누락 데이터의 수를 확인하면, 객실 데크 위치를 나타내는 `deck` 열에는 688개의 누락 데이터가 있다. 유효한 값은 203에 불과하다. `age` 열에는 177개의 누락 데이터가 있다. 결측치에 대한 처리가 필요하다.",
   "id": "201a01354d66580d"
  },
  {
   "metadata": {},
   "cell_type": "code",
   "outputs": [
    {
     "data": {
      "text/plain": [
       "survived         0\n",
       "pclass           0\n",
       "sex              0\n",
       "age            177\n",
       "sibsp            0\n",
       "parch            0\n",
       "fare             0\n",
       "embarked         2\n",
       "class            0\n",
       "who              0\n",
       "adult_male       0\n",
       "deck           688\n",
       "embark_town      2\n",
       "alive            0\n",
       "alone            0\n",
       "dtype: int64"
      ]
     },
     "execution_count": 75,
     "metadata": {},
     "output_type": "execute_result"
    }
   ],
   "execution_count": 75,
   "source": [
    "# 누락 데이터 확인\n",
    "df.isnull().sum()"
   ],
   "id": "d371820c3c7f81c1"
  },
  {
   "metadata": {},
   "cell_type": "markdown",
   "source": "중복 행을 확인해보면 107개의 행이 중복되는 것으로 나타난다. 죽복 데이터를 제거할 필요가 있다.",
   "id": "ea892602af4610de"
  },
  {
   "metadata": {},
   "cell_type": "code",
   "outputs": [
    {
     "data": {
      "text/plain": [
       "107"
      ]
     },
     "execution_count": 76,
     "metadata": {},
     "output_type": "execute_result"
    }
   ],
   "execution_count": 76,
   "source": [
    "# 중복 데이터 확인\n",
    "df.duplicated().sum()"
   ],
   "id": "5261eefd47660c8e"
  },
  {
   "metadata": {},
   "cell_type": "markdown",
   "source": "생존 여부(`survived`)를 분류하는 모델을 학습시키는 것을 목표로 하고  있기 때문에 목표 변수의 분포를 확인하는 과정이 중요하다. 생존 클래스(`1`)의 비율이 그렇지 못한 클래스(`0`)보다 상대적으로 낮은 편으로 확인된다.",
   "id": "c2a7ffbf4807df40"
  },
  {
   "metadata": {},
   "cell_type": "code",
   "outputs": [
    {
     "data": {
      "text/plain": [
       "survived\n",
       "0    549\n",
       "1    342\n",
       "Name: count, dtype: int64"
      ]
     },
     "execution_count": 77,
     "metadata": {},
     "output_type": "execute_result"
    }
   ],
   "execution_count": 77,
   "source": [
    "# 목표변수 \n",
    "df['survived'].value_counts()"
   ],
   "id": "a7b4c06d020c9595"
  },
  {
   "metadata": {},
   "cell_type": "markdown",
   "source": "목표 변수(`survived`)의 분포를 `Seaborn` 라이브러리의 `countplot()` 함수를 이용하여 막대 그래프로 시각화한다. 생존자 비율이 상대적으로 낮은 것을 확인할 수 있다.",
   "id": "73b4b0de345a947b"
  },
  {
   "metadata": {},
   "cell_type": "code",
   "outputs": [
    {
     "data": {
      "text/plain": [
       "<Figure size 640x480 with 1 Axes>"
      ],
      "image/png": "[encoded data removed]"
     },
     "metadata": {},
     "output_type": "display_data"
    }
   ],
   "execution_count": 78,
   "source": [
    "# 목표변수 - 시각화\n",
    "sns.countplot(data=df, x='survived');"
   ],
   "id": "8faabdb0b6283ca3"
  },
  {
   "metadata": {},
   "cell_type": "markdown",
   "source": [
    "`Seaborn` 라이브러리의 `FacetGrid`를 사용하여 타이타닉 데이터셋의 여러 변수에 대한 조건부 분포를 시각화하여 분석한다.\n",
    "\n",
    "승객의 탑승 클래스(`pclass`), 생존 여부(`survived`), 성별(`sex`)에 따른 나이(`age`) 분포를 시각화하여, 이러한 요소들이 생존율과 어떤 관계가 있는지 탐색한다. `map()` 메서드를 사용하여 각 서브플롯에 `age` 변수에 대한 커널 밀도 그래프를 그린다.\n",
    "\n",
    "1등석 승객 중에서 사망한 경우에는 남성 승객의 연령대가 상대적으로 여성에 비해 높은 편이다. 그리고 2등석 생존자의 경우 여성 승객의 연령대가 남성보다 높은 경향이 있다."
   ],
   "id": "7e091147510b2902"
  },
  {
   "metadata": {},
   "cell_type": "code",
   "outputs": [
    {
     "data": {
      "text/plain": [
       "<seaborn.axisgrid.FacetGrid at 0x311b1a780>"
      ]
     },
     "execution_count": 79,
     "metadata": {},
     "output_type": "execute_result"
    },
    {
     "data": {
      "text/plain": [
       "<Figure size 691.875x900 with 6 Axes>"
      ],
      "image/png": "[encoded data removed]"
     },
     "metadata": {},
     "output_type": "display_data"
    }
   ],
   "execution_count": 79,
   "source": [
    "# 시각화 \n",
    "g = sns.FacetGrid(df, col='survived', row='pclass', hue='sex')\n",
    "g.map(sns.kdeplot, 'age', alpha=0.5, fill=True)\n",
    "g.add_legend()"
   ],
   "id": "6c7b160b94f67969"
  },
  {
   "metadata": {},
   "cell_type": "markdown",
   "source": [
    "다음은 `Seaborn` 라이브러리의 `displot`을 사용하여, `sibsp` 변수(형제자매 및 배우자의 수)에 대한 히스토그램을 그리고, `survived` 변수에 따라 색상을 구분하여 시각화한다. 이 때 `multiple='fill'` 옵션을 사용하여 생존자와 미생존자의 비율을 상대적으로 표시한다.\n",
    "\n",
    "형제자매 및 배우자의 수에 따른 생존율의 차이를 확인할 수 있다. 동승한 가족이 없거나 4명 이하일 경우에는 생존자가 있지만, 5명 이상일 경우에는 생존자가 없다. 형제자매 또는 배우자의 수가 1명이었을 경우에 생존율이 높은 편이다."
   ],
   "id": "24dc1629c04f40fc"
  },
  {
   "metadata": {},
   "cell_type": "code",
   "outputs": [
    {
     "data": {
      "text/plain": [
       "<seaborn.axisgrid.FacetGrid at 0x31094cdd0>"
      ]
     },
     "execution_count": 80,
     "metadata": {},
     "output_type": "execute_result"
    },
    {
     "data": {
      "text/plain": [
       "<Figure size 562.986x500 with 1 Axes>"
      ],
      "image/png": "[encoded data removed]"
     },
     "metadata": {},
     "output_type": "display_data"
    }
   ],
   "execution_count": 80,
   "source": [
    "# 시각화 \n",
    "sns.displot(x='sibsp', kind='hist', hue='survived', data=df, multiple='fill')"
   ],
   "id": "f586f0aa8582c09"
  },
  {
   "metadata": {},
   "cell_type": "markdown",
   "source": "이번에는 `parch` 변수(부모 및 자식의 수)에 대한 히스토그램을 상대적 비율로 표시한다. 동승한 부모 및 자식의 수가 3명 이하일 경우에 생존율이 높은 것으로 파악된다.",
   "id": "ec8aa0d970750385"
  },
  {
   "metadata": {},
   "cell_type": "code",
   "outputs": [
    {
     "data": {
      "text/plain": [
       "<seaborn.axisgrid.FacetGrid at 0x311b5b560>"
      ]
     },
     "execution_count": 81,
     "metadata": {},
     "output_type": "execute_result"
    },
    {
     "data": {
      "text/plain": [
       "<Figure size 562.986x500 with 1 Axes>"
      ],
      "image/png": "[encoded data removed]"
     },
     "metadata": {},
     "output_type": "display_data"
    }
   ],
   "execution_count": 81,
   "source": [
    "# 시각화 \n",
    "sns.displot(x='parch', kind='hist', hue='survived', data=df, multiple='fill')"
   ],
   "id": "d65adf739c847654"
  },
  {
   "metadata": {},
   "cell_type": "markdown",
   "source": [
    "다음으로 `Seaborn` 라이브러리의 `boxplot`을 사용하여 `embarked`(탑승 항구), `age`(나이), `survived`(생존 여부) 변수 간의 관계를 박스 플롯으로 시각화한다.\n",
    "\n",
    "박스 플롯은 데이터의 분포와 중앙값, 이상치를 시각적으로 표현하는 데 유용하다. x축에 탑승 항구별로 데이터를 분리하여 표기하고, y축에는 각 탑승 항구별 나이 분포를 나타낸다. \n",
    "\n",
    "`hue='survived'` 옵션에 따라 생존자와 미 생존자를 서로 다른 색상으로 구분한다. 이를 통해 탑승 항구별 생존 여부에 따른 나이 분포의 차이를 시각적으로 비교할 수 있다.\n",
    "\n",
    "Q 항구에서 탑승한 생존자의 나이가 다른 항구에서 탑승한 승객들보다 어린 편으로 파악된다."
   ],
   "id": "c854f3ba820ce91b"
  },
  {
   "metadata": {},
   "cell_type": "code",
   "outputs": [
    {
     "data": {
      "text/plain": [
       "<Axes: xlabel='embarked', ylabel='age'>"
      ]
     },
     "execution_count": 82,
     "metadata": {},
     "output_type": "execute_result"
    },
    {
     "data": {
      "text/plain": [
       "<Figure size 640x480 with 1 Axes>"
      ],
      "image/png": "[encoded data removed]"
     },
     "metadata": {},
     "output_type": "display_data"
    }
   ],
   "execution_count": 82,
   "source": [
    "# 시각화 \n",
    "sns.boxplot(x='embarked', y='age', hue='survived', data=df)"
   ],
   "id": "ab43f6ad285f6b15"
  },
  {
   "metadata": {},
   "cell_type": "markdown",
   "source": [
    "### Step 3 - 데이터 전처리\n",
    "\n",
    "앞선 EDA에서 중복되는 행이 107개가 있다는 것을 확인하였다. `drop_duplicates()` 메서드를 사용하여 중복 데이터를 제거해 준다."
   ],
   "id": "f45d91261a9a1bf"
  },
  {
   "metadata": {},
   "cell_type": "code",
   "outputs": [
    {
     "name": "stdout",
     "output_type": "stream",
     "text": [
      "중복 제거 이전:  (891, 15)\n",
      "중복 제거 이후:  (784, 15)\n"
     ]
    }
   ],
   "execution_count": 83,
   "source": [
    "'''\n",
    "[Step 3] 데이터 전처리\n",
    "'''\n",
    "\n",
    "# 중복 데이터 제거\n",
    "print('중복 제거 이전: ', df.shape)\n",
    "df = df.drop_duplicates()\n",
    "print('중복 제거 이후: ', df.shape)"
   ],
   "id": "5c79413f710f3619"
  },
  {
   "metadata": {},
   "cell_type": "markdown",
   "source": [
    "전체 891명의 승객 중에서 688명의 데이터가 존재하지 않는 `deck` 열을 제거해준다. 그리고 승선 도시를 나타내는 `embark_town` 열은 `embarked` 열과 사실상 동일한 의미를 가지기 때문에 중복을 없애는 차원에서 열 자체를 제거한다.\n",
    "\n",
    "열 이름을 출력해 보면 `deck`, `embark_town` 열이 삭제된 것을 확인할 수 있다."
   ],
   "id": "d0ca350897f0a63c"
  },
  {
   "metadata": {},
   "cell_type": "code",
   "outputs": [
    {
     "data": {
      "text/plain": [
       "array(['survived', 'pclass', 'sex', 'age', 'sibsp', 'parch', 'fare',\n",
       "       'embarked', 'class', 'who', 'adult_male', 'alive', 'alone'],\n",
       "      dtype=object)"
      ]
     },
     "execution_count": 84,
     "metadata": {},
     "output_type": "execute_result"
    }
   ],
   "execution_count": 84,
   "source": [
    "# NaN값이 많은 deck 열을 삭제, embarked와 내용이 겹치는 embark_town 열을 삭제\n",
    "rdf = df.drop(['deck', 'embark_town'], axis=1)\n",
    "rdf.columns.values"
   ],
   "id": "e71eff6b00d290e6"
  },
  {
   "metadata": {},
   "cell_type": "markdown",
   "source": [
    "승객의 나이를 나타내는 `age` 열에 누락 데이터가 177개가 포함되어 있었다. 분석에 포함시켜야 하는 중요한 속성으로 판단될 경우 예측 결과에 영향을 최소화하는 방법을 선택해야 한다.\n",
    "\n",
    "평균 나이로 치환하는 방법도 가능하지만, 누락 데이터가 있는 행을 모두 제거하기로 한다. 즉, 177명의 승객 데이터를 포기하고 나이 데이터가 있는 678명의 승객만을 분석 대상으로 한다.\n",
    "\n",
    "(여기서 `age`에 누락 데이터가 있는 행을 삭제하는 방법은 부적절한 선택일 수도 있다. 이 방법뿐만 아니라 평균, 중앙값 등으로 누락 데이터를 치환하는 방법으로도 모델 학습을 진행하고 각 방법에 대한 모델의 성능을 비교해서 판단할 필요가 있다.)"
   ],
   "id": "7242f4f599c0c758"
  },
  {
   "metadata": {},
   "cell_type": "code",
   "outputs": [
    {
     "name": "stdout",
     "output_type": "stream",
     "text": [
      "678\n"
     ]
    }
   ],
   "execution_count": 85,
   "source": [
    "# age 열에 나이 데이터가 없는 모든 행을 삭제 - NaN 값\n",
    "rdf = rdf.dropna(subset=['age'], how='any', axis=0)\n",
    "print(len(rdf))"
   ],
   "id": "610f15f30a545513"
  },
  {
   "metadata": {},
   "cell_type": "markdown",
   "source": [
    "`embarked` 열에는 승객들이 타이타닉호에 탑승한 도시명의 첫 글자가 들어 있다. 누락 데이터가 2개에 불과하므로, 가장 탑승한 승객이 많은 도시명으로 치환하기로 한다. \n",
    "\n",
    "`mode()` 메서드를 사용하여 최빈값을 구한다."
   ],
   "id": "93a3a710b3365f33"
  },
  {
   "metadata": {},
   "cell_type": "code",
   "outputs": [
    {
     "name": "stdout",
     "output_type": "stream",
     "text": [
      "S\n"
     ]
    }
   ],
   "execution_count": 86,
   "source": [
    "# embarked 열의 NaN값을 승선도시 중에서 가장 많이 출현한 값으로 치환하기\n",
    "most_freq = rdf['embarked'].mode()[0]\n",
    "print(most_freq)"
   ],
   "id": "b2f92238edb4556c"
  },
  {
   "metadata": {},
   "cell_type": "markdown",
   "source": "앞서 구한 최빈값을 `embarked` 열에 `fillna()` 메서드의 인자로 인자로 전달한다. 결과적으로 누락 데이터를 `S` 값으로 치환한 배열을 원본 데이터에 업데이트한다. 결측치를 확인해보면 모든 열의 누락 데이터가 전부 제거 또는 대치된 것을 알 수 있다.",
   "id": "22a69efe4ac332e9"
  },
  {
   "metadata": {},
   "cell_type": "code",
   "outputs": [
    {
     "data": {
      "text/plain": [
       "survived      0\n",
       "pclass        0\n",
       "sex           0\n",
       "age           0\n",
       "sibsp         0\n",
       "parch         0\n",
       "fare          0\n",
       "embarked      0\n",
       "class         0\n",
       "who           0\n",
       "adult_male    0\n",
       "alive         0\n",
       "alone         0\n",
       "dtype: int64"
      ]
     },
     "execution_count": 89,
     "metadata": {},
     "output_type": "execute_result"
    }
   ],
   "execution_count": 89,
   "source": [
    "# 최빈값으로 누락 데이터 치환하기\n",
    "rdf['embarked'] = rdf['embarked'].fillna(most_freq)\n",
    "\n",
    "# 결측치 확인하기\n",
    "rdf.isnull().sum()"
   ],
   "id": "54ed1d4b7b592740"
  },
  {
   "metadata": {},
   "cell_type": "markdown",
   "source": [
    "# Step 4 - 변수 선택\n",
    "\n",
    "변수로 사용할 후보 열을 선택해야 한다. 예측 변수로 생존 여부를 나타내는 `survived` 열을 추가하고 설명 변수로 사용할 후보 열을 6개 포함시킨다."
   ],
   "id": "b1d37c27c1b589df"
  },
  {
   "metadata": {},
   "cell_type": "code",
   "outputs": [
    {
     "data": {
      "text/plain": [
       "   survived  pclass     sex   age  sibsp  parch embarked\n",
       "0         0       3    male  22.0      1      0        S\n",
       "1         1       1  female  38.0      1      0        C\n",
       "2         1       3  female  26.0      0      0        S\n",
       "3         1       1  female  35.0      1      0        S\n",
       "4         0       3    male  35.0      0      0        S"
      ],
      "text/html": [
       "<div>\n",
       "<style scoped>\n",
       "    .dataframe tbody tr th:only-of-type {\n",
       "        vertical-align: middle;\n",
       "    }\n",
       "\n",
       "    .dataframe tbody tr th {\n",
       "        vertical-align: top;\n",
       "    }\n",
       "\n",
       "    .dataframe thead th {\n",
       "        text-align: right;\n",
       "    }\n",
       "</style>\n",
       "<table border=\"1\" class=\"dataframe\">\n",
       "  <thead>\n",
       "    <tr style=\"text-align: right;\">\n",
       "      <th></th>\n",
       "      <th>survived</th>\n",
       "      <th>pclass</th>\n",
       "      <th>sex</th>\n",
       "      <th>age</th>\n",
       "      <th>sibsp</th>\n",
       "      <th>parch</th>\n",
       "      <th>embarked</th>\n",
       "    </tr>\n",
       "  </thead>\n",
       "  <tbody>\n",
       "    <tr>\n",
       "      <th>0</th>\n",
       "      <td>0</td>\n",
       "      <td>3</td>\n",
       "      <td>male</td>\n",
       "      <td>22.0</td>\n",
       "      <td>1</td>\n",
       "      <td>0</td>\n",
       "      <td>S</td>\n",
       "    </tr>\n",
       "    <tr>\n",
       "      <th>1</th>\n",
       "      <td>1</td>\n",
       "      <td>1</td>\n",
       "      <td>female</td>\n",
       "      <td>38.0</td>\n",
       "      <td>1</td>\n",
       "      <td>0</td>\n",
       "      <td>C</td>\n",
       "    </tr>\n",
       "    <tr>\n",
       "      <th>2</th>\n",
       "      <td>1</td>\n",
       "      <td>3</td>\n",
       "      <td>female</td>\n",
       "      <td>26.0</td>\n",
       "      <td>0</td>\n",
       "      <td>0</td>\n",
       "      <td>S</td>\n",
       "    </tr>\n",
       "    <tr>\n",
       "      <th>3</th>\n",
       "      <td>1</td>\n",
       "      <td>1</td>\n",
       "      <td>female</td>\n",
       "      <td>35.0</td>\n",
       "      <td>1</td>\n",
       "      <td>0</td>\n",
       "      <td>S</td>\n",
       "    </tr>\n",
       "    <tr>\n",
       "      <th>4</th>\n",
       "      <td>0</td>\n",
       "      <td>3</td>\n",
       "      <td>male</td>\n",
       "      <td>35.0</td>\n",
       "      <td>0</td>\n",
       "      <td>0</td>\n",
       "      <td>S</td>\n",
       "    </tr>\n",
       "  </tbody>\n",
       "</table>\n",
       "</div>"
      ]
     },
     "execution_count": 90,
     "metadata": {},
     "output_type": "execute_result"
    }
   ],
   "execution_count": 90,
   "source": [
    "'''\n",
    "[Step 4] 변수 선택\n",
    "'''\n",
    "\n",
    "# 분석에 활용할 열(특성)을 선택 \n",
    "ndf = rdf[['survived', 'pclass', 'sex', 'age', 'sibsp', 'parch', 'embarked']]\n",
    "ndf.head()"
   ],
   "id": "246e6aaba6eb2d1a"
  },
  {
   "metadata": {},
   "cell_type": "markdown",
   "source": [
    "KNN 모델을 적용하기 위해, `sex` 열과 `embarked` 열의 범주형 데이터를 숫자형으로 변환해야 한다. 이 과정을 더미 변수로 만든다고 하고, 원핫인코딩(one-hot-encoding)이라고도 한다.\n",
    "\n",
    "`sex` 열에 `female`, `male` 값을 열 이름으로 갖는 2개의 더미 변수 열을 만들고, `embarked` 열은 3개의 더미 변수 열을 만든다. `prefix='town'` 옵션을 사용하여 열 이름에 접두어 `town`을 붙인다.\n",
    "\n",
    "그리고 기존의 `sex`, `embarked` 열을 삭제해준다."
   ],
   "id": "7163a89e3b2a69e4"
  },
  {
   "metadata": {},
   "cell_type": "code",
   "outputs": [
    {
     "data": {
      "text/plain": [
       "   survived  pclass   age  sibsp  parch  female   male  town_C  town_Q  town_S\n",
       "0         0       3  22.0      1      0   False   True   False   False    True\n",
       "1         1       1  38.0      1      0    True  False    True   False   False\n",
       "2         1       3  26.0      0      0    True  False   False   False    True\n",
       "3         1       1  35.0      1      0    True  False   False   False    True\n",
       "4         0       3  35.0      0      0   False   True   False   False    True"
      ],
      "text/html": [
       "<div>\n",
       "<style scoped>\n",
       "    .dataframe tbody tr th:only-of-type {\n",
       "        vertical-align: middle;\n",
       "    }\n",
       "\n",
       "    .dataframe tbody tr th {\n",
       "        vertical-align: top;\n",
       "    }\n",
       "\n",
       "    .dataframe thead th {\n",
       "        text-align: right;\n",
       "    }\n",
       "</style>\n",
       "<table border=\"1\" class=\"dataframe\">\n",
       "  <thead>\n",
       "    <tr style=\"text-align: right;\">\n",
       "      <th></th>\n",
       "      <th>survived</th>\n",
       "      <th>pclass</th>\n",
       "      <th>age</th>\n",
       "      <th>sibsp</th>\n",
       "      <th>parch</th>\n",
       "      <th>female</th>\n",
       "      <th>male</th>\n",
       "      <th>town_C</th>\n",
       "      <th>town_Q</th>\n",
       "      <th>town_S</th>\n",
       "    </tr>\n",
       "  </thead>\n",
       "  <tbody>\n",
       "    <tr>\n",
       "      <th>0</th>\n",
       "      <td>0</td>\n",
       "      <td>3</td>\n",
       "      <td>22.0</td>\n",
       "      <td>1</td>\n",
       "      <td>0</td>\n",
       "      <td>False</td>\n",
       "      <td>True</td>\n",
       "      <td>False</td>\n",
       "      <td>False</td>\n",
       "      <td>True</td>\n",
       "    </tr>\n",
       "    <tr>\n",
       "      <th>1</th>\n",
       "      <td>1</td>\n",
       "      <td>1</td>\n",
       "      <td>38.0</td>\n",
       "      <td>1</td>\n",
       "      <td>0</td>\n",
       "      <td>True</td>\n",
       "      <td>False</td>\n",
       "      <td>True</td>\n",
       "      <td>False</td>\n",
       "      <td>False</td>\n",
       "    </tr>\n",
       "    <tr>\n",
       "      <th>2</th>\n",
       "      <td>1</td>\n",
       "      <td>3</td>\n",
       "      <td>26.0</td>\n",
       "      <td>0</td>\n",
       "      <td>0</td>\n",
       "      <td>True</td>\n",
       "      <td>False</td>\n",
       "      <td>False</td>\n",
       "      <td>False</td>\n",
       "      <td>True</td>\n",
       "    </tr>\n",
       "    <tr>\n",
       "      <th>3</th>\n",
       "      <td>1</td>\n",
       "      <td>1</td>\n",
       "      <td>35.0</td>\n",
       "      <td>1</td>\n",
       "      <td>0</td>\n",
       "      <td>True</td>\n",
       "      <td>False</td>\n",
       "      <td>False</td>\n",
       "      <td>False</td>\n",
       "      <td>True</td>\n",
       "    </tr>\n",
       "    <tr>\n",
       "      <th>4</th>\n",
       "      <td>0</td>\n",
       "      <td>3</td>\n",
       "      <td>35.0</td>\n",
       "      <td>0</td>\n",
       "      <td>0</td>\n",
       "      <td>False</td>\n",
       "      <td>True</td>\n",
       "      <td>False</td>\n",
       "      <td>False</td>\n",
       "      <td>True</td>\n",
       "    </tr>\n",
       "  </tbody>\n",
       "</table>\n",
       "</div>"
      ]
     },
     "execution_count": 91,
     "metadata": {},
     "output_type": "execute_result"
    }
   ],
   "execution_count": 91,
   "source": [
    "# 원핫인코딩 - 범주형 데이터를 모형이 인식할 수 있도록 숫자형으로 변환\n",
    "onehot_sex = pd.get_dummies(ndf['sex'])\n",
    "ndf = pd.concat([ndf, onehot_sex], axis=1)\n",
    "\n",
    "onehot_embarked = pd.get_dummies(ndf['embarked'], prefix='town')\n",
    "ndf = pd.concat([ndf, onehot_embarked], axis=1)\n",
    "\n",
    "ndf = ndf.drop(['sex', 'embarked'], axis=1)\n",
    "ndf.head()"
   ],
   "id": "a670ef16697150f9"
  },
  {
   "metadata": {},
   "cell_type": "markdown",
   "source": [
    "# Step 5 - 훈련/검증 데이터 분할\n",
    "\n",
    "Step 4에서 정리한 열 중에서 예측 변수인 `survived` 열을 변수 `y`에 저장하고, 나머지 열들을 설명 변수로 사용하기 위해 변수 `X`에 저장한다.\n",
    "\n",
    "설명 변수 열들이 갖는 데이터의 상대적 크기 차이를 없애기 위하여 정규화 과정을 거친다. `sklearn`의 `preprocessing` 모듈을 사용해서 정규화를 해준다.\n",
    "\n",
    "그리고 `train_test_split()` 함수를 사용하여 훈련 데이터와 검증 데이터를 나눈다.(7:3)"
   ],
   "id": "717999cd378b6ccb"
  },
  {
   "metadata": {},
   "cell_type": "code",
   "outputs": [
    {
     "name": "stdout",
     "output_type": "stream",
     "text": [
      "train data 개수:  (474, 9)\n",
      "test data 개수:  (204, 9)\n"
     ]
    }
   ],
   "execution_count": 93,
   "source": [
    "'''\n",
    "[Step 5] 데이터셋 구분 - 훈련용(train data)/ 검증용(test data)\n",
    "'''\n",
    "\n",
    "# 속성(변수) 선택\n",
    "X = ndf[['pclass', 'age', 'sibsp', 'parch', 'female', 'male',\n",
    "         'town_C', 'town_Q', 'town_S']]  #독립 변수 X\n",
    "y = ndf['survived']  #종속 변수 Y\n",
    "\n",
    "# 설명 변수 데이터를 정규화(normalization)\n",
    "from sklearn import preprocessing\n",
    "\n",
    "X = preprocessing.StandardScaler().fit(X).transform(X)\n",
    "\n",
    "# train data 와 test data로 구분(7:3 비율)\n",
    "from sklearn.model_selection import train_test_split\n",
    "\n",
    "X_train, X_test, y_train, y_test = train_test_split(X, y, test_size=0.3, random_state=10)\n",
    "\n",
    "print('train data 개수: ', X_train.shape)\n",
    "print('test data 개수: ', X_test.shape)"
   ],
   "id": "2748324b00db2f6"
  },
  {
   "metadata": {},
   "cell_type": "markdown",
   "source": [
    "# Step 6 - 모델 학습 및 검증\n",
    "\n",
    "`sklearn`의 `neighbors` 모듈의 `KNeighborsClassifier()` 함수로 KNN 분류 모형 객체를 생성하여 `knn`에 저장한다. `n_neighbors=5`와 같이 이웃의 숫자를 5개로 설정해준다.\n",
    "\n",
    "훈련 데이터(`X_train`, `y_train`)를 `fit()` 메서드에 입력하여 모형을 학습시키고, 검증 데이터(`X_test`)를 `predict()` 메서드에 전달하여 모형이 분류한 예측값을 변수 `y_hat`에 저장한다.\n",
    "\n",
    "예측값 `y_hat`을 실제값 `y_test`와 비교해보자."
   ],
   "id": "1a4f1f372a74741d"
  },
  {
   "metadata": {},
   "cell_type": "code",
   "outputs": [
    {
     "name": "stdout",
     "output_type": "stream",
     "text": [
      "[0 1 0 1 0 0 1 1 1 1]\n",
      "[1 1 0 1 0 1 1 1 1 0]\n"
     ]
    }
   ],
   "execution_count": 94,
   "source": [
    "'''\n",
    "[Step 6] KNN 분류 모형 - sklearn 사용\n",
    "'''\n",
    "\n",
    "# sklearn 라이브러리에서 KNN 분류 모형 가져오기\n",
    "from sklearn.neighbors import KNeighborsClassifier\n",
    "\n",
    "# 모형 객체 생성 (k=5로 설정)\n",
    "knn = KNeighborsClassifier(n_neighbors=5)\n",
    "\n",
    "# train data를 가지고 모형 학습\n",
    "knn.fit(X_train, y_train)\n",
    "\n",
    "# test data를 가지고 y_hat을 예측 (분류) \n",
    "y_hat = knn.predict(X_test)\n",
    "\n",
    "print(y_hat[0:10])\n",
    "print(y_test.values[0:10])"
   ],
   "id": "1d82b126e3577daf"
  },
  {
   "metadata": {},
   "cell_type": "markdown",
   "source": [
    "모델의 예측능력을 평가해보자. `metrics` 모듈의 `confusion_matrix()` 함수를 사용하여 혼동 행렬(Confusion Matrix)을 계산한다. 이 함수는 [[`TN`, `FP`], [`FN`, `TP`]] 형태로 반환된다. \n",
    "\n",
    "따라서, 검증 데이터셋에 포함된 204명의 승객에 대해서 미생존자(`Negative`)를 정확히 예측한 `TN`은 99명, 미생존자(`Negative`)를 생존자로(`Positive`)로 잘못 분류한 `FP`는 24명, 생존자(`Positive`)를 미생존자(`Negative`)로 잘못 분류한 `FN`은 26명, 생존자(`Positive`)를 정확하게 예측한 `TP`는 55명으로 확인된다."
   ],
   "id": "25275c8181d7e1f6"
  },
  {
   "metadata": {},
   "cell_type": "code",
   "outputs": [
    {
     "name": "stdout",
     "output_type": "stream",
     "text": [
      "[[99 24]\n",
      " [26 55]]\n"
     ]
    }
   ],
   "execution_count": 95,
   "source": [
    "# 모형 성능 평가 - Confusion Matrix 계산\n",
    "from sklearn import metrics\n",
    "\n",
    "knn_matrix = metrics.confusion_matrix(y_test, y_hat)\n",
    "print(knn_matrix)"
   ],
   "id": "2126b9240c7cd339"
  },
  {
   "metadata": {},
   "cell_type": "markdown",
   "source": "혼동 행렬을 `heatmap()` 함수를 사용하여 히트맵으로 시각화한다.",
   "id": "3720ae246b0b66e2"
  },
  {
   "metadata": {},
   "cell_type": "code",
   "outputs": [
    {
     "data": {
      "text/plain": [
       "Text(0.5, 38.31597222222221, 'Predicted label')"
      ]
     },
     "execution_count": 97,
     "metadata": {},
     "output_type": "execute_result"
    },
    {
     "data": {
      "text/plain": [
       "<Figure size 800x600 with 2 Axes>"
      ],
      "image/png": "[encoded data removed]"
     },
     "metadata": {},
     "output_type": "display_data"
    }
   ],
   "execution_count": 97,
   "source": [
    "# Confusion Matrix 시각화\n",
    "\n",
    "plt.figure(figsize=(8, 6))\n",
    "sns.heatmap(knn_matrix, annot=True, fmt='d', cmap='Blues',\n",
    "            xticklabels=['Negative', 'Positive'],\n",
    "            yticklabels=['Negative', 'Positive'])\n",
    "\n",
    "plt.title('Confusion Matrix')\n",
    "plt.ylabel('Actual label')\n",
    "plt.xlabel('Predicted label')"
   ],
   "id": "283d5a08aaa3a374"
  },
  {
   "metadata": {},
   "cell_type": "markdown",
   "source": [
    "모델의 예측능력을 평가하는 여러 지표를 한번에 계산할 수도 있다. `metrics` 모듈의 `classification_report()` 함수를 사용하면 `accuracy`, `precision`, `recall`, `f1-score`, `support` 지표를 계산해준다.\n",
    "\n",
    "`f1-score` 지표를 보면 미생존자(0:`Negative`) 예측의 경우 0.80이고, 생존자(1: `Positive`) 예측의 경우 0.69이다. 전체 모델 성능을 보면 정확도(`accuracy`)가 0.75로 확인된다. 종합적으로 볼 때, 생존자(1: `Positive`) 클래스에 대한 성능이 상대적으로 낮다. 모델 성능 개선이 필요하다고 판단된다."
   ],
   "id": "8a247f02b4ed7bb9"
  },
  {
   "metadata": {},
   "cell_type": "code",
   "outputs": [
    {
     "name": "stdout",
     "output_type": "stream",
     "text": [
      "              precision    recall  f1-score   support\n",
      "\n",
      "           0       0.79      0.80      0.80       123\n",
      "           1       0.70      0.68      0.69        81\n",
      "\n",
      "    accuracy                           0.75       204\n",
      "   macro avg       0.74      0.74      0.74       204\n",
      "weighted avg       0.75      0.75      0.75       204\n",
      "\n"
     ]
    }
   ],
   "execution_count": 99,
   "source": [
    "# 모형 성능 평가 - 평가지표 계산\n",
    "knn_report = metrics.classification_report(y_test, y_hat)\n",
    "print(knn_report)"
   ],
   "id": "cc0aca82bfd04df4"
  }
 ],
 "metadata": {
  "kernelspec": {
   "display_name": "Python 3",
   "language": "python",
   "name": "python3"
  },
  "language_info": {
   "codemirror_mode": {
    "name": "ipython",
    "version": 2
   },
   "file_extension": ".py",
   "mimetype": "text/x-python",
   "name": "python",
   "nbconvert_exporter": "python",
   "pygments_lexer": "ipython2",
   "version": "2.7.6"
  }
 },
 "nbformat": 4,
 "nbformat_minor": 5
}
