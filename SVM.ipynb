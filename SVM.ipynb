{
 "cells": [
  {
   "metadata": {},
   "cell_type": "markdown",
   "source": "Step 1 ~ Step 5까지 과정을 이용하여 데이터를 정리하고 훈련 데이터와 검증 데이터를 분리한다. 훈련 데이터는 474개이고, 검증 데이터는 204개가 된다.(7:3)",
   "id": "70928ca4742a1144"
  },
  {
   "metadata": {},
   "cell_type": "code",
   "outputs": [
    {
     "name": "stdout",
     "output_type": "stream",
     "text": [
      "train data 개수:  (474, 9)\n",
      "test data 개수:  (204, 9)\n"
     ]
    }
   ],
   "execution_count": 1,
   "source": [
    "# 기본 라이브러리 불러오기\n",
    "import pandas as pd\n",
    "import numpy as np\n",
    "import matplotlib.pyplot as plt\n",
    "import seaborn as sns\n",
    "\n",
    "'''\n",
    "[Step 1] 데이터 준비 - Seaborn에서 제공하는 titanic 데이터셋 가져오기\n",
    "'''\n",
    "\n",
    "# load_dataset 함수를 사용하여 데이터프레임으로 변환\n",
    "df = sns.load_dataset('titanic')\n",
    "\n",
    "'''\n",
    "[Step 2 ~ 3] 데이터 전처리\n",
    "'''\n",
    "\n",
    "# 중복 데이터 제거\n",
    "df = df.drop_duplicates()\n",
    "\n",
    "# NaN값이 많은 deck 열을 삭제, embarked와 내용이 겹치는 embark_town 열을 삭제\n",
    "rdf = df.drop(['deck', 'embark_town'], axis=1)\n",
    "\n",
    "# age 열에 나이 데이터가 없는 모든 행을 삭제 - NaN 값\n",
    "rdf = rdf.dropna(subset=['age'], how='any', axis=0)\n",
    "\n",
    "# embarked 열의 NaN값을 승선도시 중에서 가장 많이 출현한 값으로 치환하기\n",
    "most_freq = rdf['embarked'].mode()[0]\n",
    "rdf['embarked'] = rdf['embarked'].fillna(most_freq)\n",
    "\n",
    "'''\n",
    "[Step 4] 변수 선택\n",
    "'''\n",
    "\n",
    "# 분석에 활용할 열(속성)을 선택 \n",
    "ndf = rdf[['survived', 'pclass', 'sex', 'age', 'sibsp', 'parch', 'embarked']]\n",
    "\n",
    "# 원핫인코딩 - 범주형 데이터를 모형이 인식할 수 있도록 숫자형으로 변환\n",
    "onehot_sex = pd.get_dummies(ndf['sex'])\n",
    "ndf = pd.concat([ndf, onehot_sex], axis=1)\n",
    "\n",
    "onehot_embarked = pd.get_dummies(ndf['embarked'], prefix='town')\n",
    "ndf = pd.concat([ndf, onehot_embarked], axis=1)\n",
    "\n",
    "ndf = ndf.drop(['sex', 'embarked'], axis=1)\n",
    "\n",
    "'''\n",
    "[Step 5] 데이터셋 구분 - 훈련용(train data)/ 검증용(test data)\n",
    "'''\n",
    "\n",
    "# 속성(변수) 선택\n",
    "X = ndf[['pclass', 'age', 'sibsp', 'parch', 'female', 'male',\n",
    "         'town_C', 'town_Q', 'town_S']]  #독립 변수 X\n",
    "y = ndf['survived']  #종속 변수 Y\n",
    "\n",
    "# 설명 변수 데이터를 정규화(normalization)\n",
    "from sklearn import preprocessing\n",
    "\n",
    "X = preprocessing.StandardScaler().fit(X).transform(X)\n",
    "\n",
    "# train data 와 test data로 구분(7:3 비율)\n",
    "from sklearn.model_selection import train_test_split\n",
    "\n",
    "X_train, X_test, y_train, y_test = train_test_split(X, y, test_size=0.3, random_state=10)\n",
    "\n",
    "print('train data 개수: ', X_train.shape)\n",
    "print('test data 개수: ', X_test.shape)"
   ],
   "id": "initial_id"
  },
  {
   "metadata": {},
   "cell_type": "markdown",
   "source": [
    "# Step 6 - 모델 학습 및 검증\n",
    "\n",
    "`sklearn`의 `svm` 모듈의 `SVC()` 함수를 사용하여 SVM 모델 객체(`svm_model`)를 생성한다. 이 때 데이터를 벡터 공간으로 매핑하는 함수를 커널(`kernel`)이라고 하는데, `kernel='rbf'` 옵션을 통해 RBF(Radial Basis Function) 함수를 적용한다. RBF외에도 Linear, Polynimial, Sigmoid 등의 커널이 있다.\n",
    "\n",
    "훈련 데이터(`X_train`, `y_train`)를 `fit()` 메서드에 전달하여 모델을 학습시킨다. 학습이 끝나면 검증 데이터(`X_test`)를 `predict()` 메서드에 전달하여 예측한 결과를 변수 `y_hat`에 저장한다.\n",
    "\n",
    "모델의 예측값(`y_hat`)과 실제 데이터(`y_test`)를 비교해보면, 첫 10개의 데이터 중에서 8개가 일치한다."
   ],
   "id": "d6881ef13fc4acb2"
  },
  {
   "metadata": {},
   "cell_type": "code",
   "outputs": [
    {
     "name": "stdout",
     "output_type": "stream",
     "text": [
      "[1 1 0 1 0 0 0 1 1 1]\n",
      "[1 1 0 1 0 1 1 1 1 0]\n"
     ]
    }
   ],
   "execution_count": 3,
   "source": [
    "'''\n",
    "[Step 6] SVM 분류 모형 - sklearn 사용\n",
    "'''\n",
    "\n",
    "# sklearn 라이브러리에서 SVM 분류 모형 가져오기\n",
    "from sklearn import svm\n",
    "\n",
    "# 모형 객체 생성 (kernel='rbf' 적용)\n",
    "svm_model = svm.SVC(kernel='rbf')\n",
    "\n",
    "# train data를 가지고 모형 학습\n",
    "svm_model.fit(X_train, y_train)\n",
    "\n",
    "# test data를 가지고 y_hat을 예측 (분류) \n",
    "y_hat = svm_model.predict(X_test)\n",
    "\n",
    "print(y_hat[0:10])\n",
    "print(y_test.values[0:10])"
   ],
   "id": "718cbfa82058e523"
  },
  {
   "metadata": {},
   "cell_type": "markdown",
   "source": "모델의 예측능력을 평가하는 지표를 계산한다. 먼저 `confusion_matrix()` 함수를 사용하여 혼동 행렬을 계산한다. 검증 데이터에 속한 204명의 승객 중에서 미생존자(`Negative`)를 정확히 예측한 `TN`은 104명, 미생존자(`Negative`)를 생존자(`Positive`)로 잘못 분류한 `FP`는 19명, 생존자(`Positive`)를 미생존자(`Negative`)로 잘못 예측한 `FN`은 24명, 생존자(`Positive`)를 정확히 예측한 `TP`는 57명이다.",
   "id": "6080c45f595b1f0"
  },
  {
   "metadata": {},
   "cell_type": "code",
   "outputs": [
    {
     "name": "stdout",
     "output_type": "stream",
     "text": [
      "[[104  19]\n",
      " [ 24  57]]\n"
     ]
    }
   ],
   "execution_count": 4,
   "source": [
    "# 모형 성능 평가 - Confusion Matrix 계산\n",
    "from sklearn import metrics\n",
    "\n",
    "svm_matrix = metrics.confusion_matrix(y_test, y_hat)\n",
    "print(svm_matrix)"
   ],
   "id": "e5d499ff3c5ce32c"
  },
  {
   "metadata": {},
   "cell_type": "markdown",
   "source": "`heatmap()` 함수를 사용하여 혼동 행렬을 히트맵으로 시각화 한다.",
   "id": "ef3d1dcc36d69ac3"
  },
  {
   "metadata": {},
   "cell_type": "code",
   "outputs": [
    {
     "data": {
      "text/plain": [
       "<Figure size 800x600 with 2 Axes>"
      ],
      "image/png": "[encoded data removed]"
     },
     "metadata": {},
     "output_type": "display_data"
    }
   ],
   "execution_count": 5,
   "source": [
    "# Confusion Matrix 시각화\n",
    "\n",
    "plt.figure(figsize=(8, 6))\n",
    "sns.heatmap(svm_matrix, annot=True, fmt='d', cmap='OrRd',\n",
    "            xticklabels=['Negative', 'Positive'],\n",
    "            yticklabels=['Negative', 'Positive'])\n",
    "\n",
    "plt.title('Confusion Matrix')\n",
    "plt.ylabel('Actual label')\n",
    "plt.xlabel('Predicted label')\n",
    "plt.show()"
   ],
   "id": "ca67b7c158432797"
  },
  {
   "metadata": {},
   "cell_type": "markdown",
   "source": [
    "분류 평가지표를 요약해주는 classification_report() 함수를 사용한다. 클래스별 성능 지표 중에서 `f1-score`을 보면, 미생존자(0 : `Negative`) 예측의 경우 0.83, 생존자(1 : `Positive`) 예측의 경우 0.73이다. 전체 모델 성능을 보면 정확도(`accuracy`)가 0.79이다. \n",
    "\n",
    "KNN에서와 같이 생존자(1 : `Positive`) 클래스에 대한 성능이 상대적을 낮은 편이다. 하지만 `f1-score` 지표를 포함하여 전반적으로 KNN 모델보다 성능이 개선된 것으로 판단된다."
   ],
   "id": "2d6350a5c8cb437f"
  },
  {
   "metadata": {},
   "cell_type": "code",
   "outputs": [
    {
     "name": "stdout",
     "output_type": "stream",
     "text": [
      "              precision    recall  f1-score   support\n",
      "\n",
      "           0       0.81      0.85      0.83       123\n",
      "           1       0.75      0.70      0.73        81\n",
      "\n",
      "    accuracy                           0.79       204\n",
      "   macro avg       0.78      0.77      0.78       204\n",
      "weighted avg       0.79      0.79      0.79       204\n",
      "\n"
     ]
    }
   ],
   "execution_count": 6,
   "source": [
    "# 모형 성능 평가 - 평가지표 계산\n",
    "svm_report = metrics.classification_report(y_test, y_hat)\n",
    "print(svm_report)"
   ],
   "id": "fbe0bb88bb599db9"
  }
 ],
 "metadata": {
  "kernelspec": {
   "display_name": "Python 3",
   "language": "python",
   "name": "python3"
  },
  "language_info": {
   "codemirror_mode": {
    "name": "ipython",
    "version": 2
   },
   "file_extension": ".py",
   "mimetype": "text/x-python",
   "name": "python",
   "nbconvert_exporter": "python",
   "pygments_lexer": "ipython2",
   "version": "2.7.6"
  }
 },
 "nbformat": 4,
 "nbformat_minor": 5
}
