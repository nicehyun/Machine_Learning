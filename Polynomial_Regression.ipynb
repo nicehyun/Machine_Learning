{
 "cells": [
  {
   "metadata": {},
   "cell_type": "markdown",
   "source": [
    "직선보다는 곡선으로 설명하는 것이 적절할 때는 단순회귀분석은 부적합하다. 이럴 때 다항 함수를 사용하면 보다 복잡한 곡선 형태의 회귀선을 표현할 수 있다.\n",
    "\n",
    "`다항회귀분석`(`Polynomial Regression`)은 2차함수 이상의 다항 함수를 이용하여 두 변수 간의 선형관계를 설명하는 알고리즘이다. 예를 들어, 2차 함수는 종속 변수 Y와 독립 변수 X 사이의 관계를 $Y = aX^2 + bX + c$로 표시하여 설명한다. 다항회귀분석 모형은 학습을 통해 3개의 계수 $a$, $b$, $c$를 찾아서 모형을 완성한다."
   ],
   "id": "3f9153bdeeaa0e9"
  },
  {
   "metadata": {},
   "cell_type": "markdown",
   "source": [
    "# Step 1 ~ Step 5\n",
    "단순회귀분석의 Step 1~Step 5까지 과정을 다시 거친다. 훈련 데이터 278개와 검증 데이터 120개로 나뉜다."
   ],
   "id": "358d121242a1f79b"
  },
  {
   "metadata": {
    "ExecuteTime": {
     "end_time": "2024-08-19T09:17:57.768101Z",
     "start_time": "2024-08-19T09:17:57.501836Z"
    }
   },
   "cell_type": "code",
   "source": [
    "import pandas as pd\n",
    "import numpy as np\n",
    "import matplotlib.pyplot as plt\n",
    "import seaborn as sns\n",
    "\n",
    "# CSV 파일을 데이터프레임으로 변환\n",
    "df = pd.read_csv('./data/auto-mpg.csv', header=None)\n",
    "\n",
    "# 열 이름 지정\n",
    "df.columns = ['mpg', 'cylinders', 'displacement', 'horsepower', 'weight',\n",
    "              'acceleration', 'model year', 'origin', 'name']\n",
    "\n",
    "# 분석에 활용할 열(속성)을 선택 (연비, 실린더, 출력, 중량)\n",
    "ndf = df[['mpg', 'cylinders', 'horsepower', 'weight']]\n",
    "\n",
    "# ndf 데이터를 train data 와 test data로 구분(7:3 비율)\n",
    "X = ndf[['weight']]  #독립 변수 X\n",
    "y = ndf['mpg']  #종속 변수 Y\n",
    "\n",
    "# train data 와 test data로 구분(7:3 비율)\n",
    "from sklearn.model_selection import train_test_split\n",
    "\n",
    "X_train, X_test, y_train, y_test = train_test_split(X, y, test_size=0.3, random_state=10)\n",
    "\n",
    "print('훈련 데이터: ', X_train.shape)\n",
    "# 훈련 데이터:  (278, 1)\n",
    "print('검증 데이터: ', X_test.shape)\n",
    "# 검증 데이터:  (120, 1)"
   ],
   "id": "3f0cc709b5ddd",
   "outputs": [
    {
     "name": "stdout",
     "output_type": "stream",
     "text": [
      "훈련 데이터:  (278, 1)\n",
      "검증 데이터:  (120, 1)\n"
     ]
    }
   ],
   "execution_count": 4
  },
  {
   "metadata": {},
   "cell_type": "markdown",
   "source": [
    "# Step 6 - 모델 학습 및 검증\n",
    "`sklearn` 라이브러리에서 선형회귀분석을 위한 `LinearRegression()` 함수와 다항식 변환을 위한 `PolynomialFeatures()` 함수를 불러온다.\n",
    "\n",
    "`PolynomialFeatures(degree=2)`를 통해 2차항(제곱항)까지의 변환을 적용하는 다항식 변환 객체인 `poly`를 생성한다. 변환된 데이터는 원래의 특성, 각 특성의 제곱, 모든 특성 쌍의 곱을 포함하게 된다. 1차 함수를 제곱하면 2차 함수가 되는 것과 같은 원리로 이해하면 된다.\n",
    "\n",
    "독립 변수로 사용할 `X_train` 데이터를 `fit_transform()` 메서드에 전달하면, 2차항 회귀분석에 맞게 변환된다. `X_train`의 1개 열이 `X_train_poly`에서는 3개 열로 늘어난다. 독립 변수 X 하나에 대해 [$1$, $X$, $X^2$]와 같이 3개의 특성으로 변환되는 것이다.\n",
    "\n",
    "여기서 $1$은 상수항, $X$는 원래의 특성, $X^2$은 원래 특성의 제곱을 나타낸다.\n"
   ],
   "id": "71963a39a722821e"
  },
  {
   "metadata": {
    "ExecuteTime": {
     "end_time": "2024-08-19T09:28:57.777157Z",
     "start_time": "2024-08-19T09:28:57.769270Z"
    }
   },
   "cell_type": "code",
   "source": [
    "# sklearn 라이브러리에서 필요한 모듈 가져오기 \n",
    "from sklearn.linear_model import LinearRegression  #선형회귀분석\n",
    "from sklearn.preprocessing import PolynomialFeatures  #다항식 변환\n",
    "\n",
    "# 다항식 변환 \n",
    "poly = PolynomialFeatures(degree=2)  #2차항 적용\n",
    "X_train_poly = poly.fit_transform(X_train)  #X_train 데이터를 2차항으로 변형\n",
    "display(X_train.head())\n",
    "display(X_train_poly)\n",
    "\n",
    "print('원본 데이터: ', X_train.shape)\n",
    "# 원본 데이터:  (278, 1)\n",
    "print('2차항 변환 데이터: ', X_train_poly.shape)\n",
    "# 2차항 변환 데이터:  (278, 3)"
   ],
   "id": "289110e8ee43b346",
   "outputs": [
    {
     "data": {
      "text/plain": [
       "     weight\n",
       "397  2720.0\n",
       "25   4615.0\n",
       "279  2135.0\n",
       "260  3620.0\n",
       "130  2451.0"
      ],
      "text/html": [
       "<div>\n",
       "<style scoped>\n",
       "    .dataframe tbody tr th:only-of-type {\n",
       "        vertical-align: middle;\n",
       "    }\n",
       "\n",
       "    .dataframe tbody tr th {\n",
       "        vertical-align: top;\n",
       "    }\n",
       "\n",
       "    .dataframe thead th {\n",
       "        text-align: right;\n",
       "    }\n",
       "</style>\n",
       "<table border=\"1\" class=\"dataframe\">\n",
       "  <thead>\n",
       "    <tr style=\"text-align: right;\">\n",
       "      <th></th>\n",
       "      <th>weight</th>\n",
       "    </tr>\n",
       "  </thead>\n",
       "  <tbody>\n",
       "    <tr>\n",
       "      <th>397</th>\n",
       "      <td>2720.0</td>\n",
       "    </tr>\n",
       "    <tr>\n",
       "      <th>25</th>\n",
       "      <td>4615.0</td>\n",
       "    </tr>\n",
       "    <tr>\n",
       "      <th>279</th>\n",
       "      <td>2135.0</td>\n",
       "    </tr>\n",
       "    <tr>\n",
       "      <th>260</th>\n",
       "      <td>3620.0</td>\n",
       "    </tr>\n",
       "    <tr>\n",
       "      <th>130</th>\n",
       "      <td>2451.0</td>\n",
       "    </tr>\n",
       "  </tbody>\n",
       "</table>\n",
       "</div>"
      ]
     },
     "metadata": {},
     "output_type": "display_data"
    },
    {
     "data": {
      "text/plain": [
       "array([[1.0000000e+00, 2.7200000e+03, 7.3984000e+06],\n",
       "       [1.0000000e+00, 4.6150000e+03, 2.1298225e+07],\n",
       "       [1.0000000e+00, 2.1350000e+03, 4.5582250e+06],\n",
       "       [1.0000000e+00, 3.6200000e+03, 1.3104400e+07],\n",
       "       [1.0000000e+00, 2.4510000e+03, 6.0074010e+06],\n",
       "       [1.0000000e+00, 2.9000000e+03, 8.4100000e+06],\n",
       "       [1.0000000e+00, 2.6350000e+03, 6.9432250e+06],\n",
       "       [1.0000000e+00, 2.6720000e+03, 7.1395840e+06],\n",
       "       [1.0000000e+00, 3.3530000e+03, 1.1242609e+07],\n",
       "       [1.0000000e+00, 3.3800000e+03, 1.1424400e+07],\n",
       "       [1.0000000e+00, 3.6640000e+03, 1.3424896e+07],\n",
       "       [1.0000000e+00, 3.3650000e+03, 1.1323225e+07],\n",
       "       [1.0000000e+00, 4.4400000e+03, 1.9713600e+07],\n",
       "       [1.0000000e+00, 2.7550000e+03, 7.5900250e+06],\n",
       "       [1.0000000e+00, 2.1080000e+03, 4.4436640e+06],\n",
       "       [1.0000000e+00, 3.1400000e+03, 9.8596000e+06],\n",
       "       [1.0000000e+00, 2.1880000e+03, 4.7873440e+06],\n",
       "       [1.0000000e+00, 3.3020000e+03, 1.0903204e+07],\n",
       "       [1.0000000e+00, 4.1650000e+03, 1.7347225e+07],\n",
       "       [1.0000000e+00, 2.9900000e+03, 8.9401000e+06],\n",
       "       [1.0000000e+00, 2.5750000e+03, 6.6306250e+06],\n",
       "       [1.0000000e+00, 3.6050000e+03, 1.2996025e+07],\n",
       "       [1.0000000e+00, 2.1100000e+03, 4.4521000e+06],\n",
       "       [1.0000000e+00, 1.8000000e+03, 3.2400000e+06],\n",
       "       [1.0000000e+00, 2.1250000e+03, 4.5156250e+06],\n",
       "       [1.0000000e+00, 3.0030000e+03, 9.0180090e+06],\n",
       "       [1.0000000e+00, 3.3290000e+03, 1.1082241e+07],\n",
       "       [1.0000000e+00, 2.0850000e+03, 4.3472250e+06],\n",
       "       [1.0000000e+00, 1.8350000e+03, 3.3672250e+06],\n",
       "       [1.0000000e+00, 1.8250000e+03, 3.3306250e+06],\n",
       "       [1.0000000e+00, 2.2300000e+03, 4.9729000e+06],\n",
       "       [1.0000000e+00, 2.2790000e+03, 5.1938410e+06],\n",
       "       [1.0000000e+00, 4.3410000e+03, 1.8844281e+07],\n",
       "       [1.0000000e+00, 2.9840000e+03, 8.9042560e+06],\n",
       "       [1.0000000e+00, 3.4200000e+03, 1.1696400e+07],\n",
       "       [1.0000000e+00, 3.7250000e+03, 1.3875625e+07],\n",
       "       [1.0000000e+00, 3.4250000e+03, 1.1730625e+07],\n",
       "       [1.0000000e+00, 4.9060000e+03, 2.4068836e+07],\n",
       "       [1.0000000e+00, 2.5420000e+03, 6.4617640e+06],\n",
       "       [1.0000000e+00, 3.8200000e+03, 1.4592400e+07],\n",
       "       [1.0000000e+00, 2.4080000e+03, 5.7984640e+06],\n",
       "       [1.0000000e+00, 2.4300000e+03, 5.9049000e+06],\n",
       "       [1.0000000e+00, 3.1900000e+03, 1.0176100e+07],\n",
       "       [1.0000000e+00, 4.4990000e+03, 2.0241001e+07],\n",
       "       [1.0000000e+00, 4.6380000e+03, 2.1511044e+07],\n",
       "       [1.0000000e+00, 2.9010000e+03, 8.4158010e+06],\n",
       "       [1.0000000e+00, 2.2200000e+03, 4.9284000e+06],\n",
       "       [1.0000000e+00, 2.6000000e+03, 6.7600000e+06],\n",
       "       [1.0000000e+00, 2.1260000e+03, 4.5198760e+06],\n",
       "       [1.0000000e+00, 2.1710000e+03, 4.7132410e+06],\n",
       "       [1.0000000e+00, 4.0770000e+03, 1.6621929e+07],\n",
       "       [1.0000000e+00, 3.8300000e+03, 1.4668900e+07],\n",
       "       [1.0000000e+00, 1.9950000e+03, 3.9800250e+06],\n",
       "       [1.0000000e+00, 2.1550000e+03, 4.6440250e+06],\n",
       "       [1.0000000e+00, 2.2460000e+03, 5.0445160e+06],\n",
       "       [1.0000000e+00, 4.2090000e+03, 1.7715681e+07],\n",
       "       [1.0000000e+00, 2.1500000e+03, 4.6225000e+06],\n",
       "       [1.0000000e+00, 2.5720000e+03, 6.6151840e+06],\n",
       "       [1.0000000e+00, 3.5700000e+03, 1.2744900e+07],\n",
       "       [1.0000000e+00, 3.9620000e+03, 1.5697444e+07],\n",
       "       [1.0000000e+00, 2.5420000e+03, 6.4617640e+06],\n",
       "       [1.0000000e+00, 1.8670000e+03, 3.4856890e+06],\n",
       "       [1.0000000e+00, 2.2000000e+03, 4.8400000e+06],\n",
       "       [1.0000000e+00, 4.5020000e+03, 2.0268004e+07],\n",
       "       [1.0000000e+00, 4.1900000e+03, 1.7556100e+07],\n",
       "       [1.0000000e+00, 3.5040000e+03, 1.2278016e+07],\n",
       "       [1.0000000e+00, 2.1230000e+03, 4.5071290e+06],\n",
       "       [1.0000000e+00, 1.9750000e+03, 3.9006250e+06],\n",
       "       [1.0000000e+00, 3.0350000e+03, 9.2112250e+06],\n",
       "       [1.0000000e+00, 2.9500000e+03, 8.7025000e+06],\n",
       "       [1.0000000e+00, 1.8340000e+03, 3.3635560e+06],\n",
       "       [1.0000000e+00, 3.2500000e+03, 1.0562500e+07],\n",
       "       [1.0000000e+00, 2.1900000e+03, 4.7961000e+06],\n",
       "       [1.0000000e+00, 2.5560000e+03, 6.5331360e+06],\n",
       "       [1.0000000e+00, 2.1640000e+03, 4.6828960e+06],\n",
       "       [1.0000000e+00, 3.1580000e+03, 9.9729640e+06],\n",
       "       [1.0000000e+00, 3.1930000e+03, 1.0195249e+07],\n",
       "       [1.0000000e+00, 2.7890000e+03, 7.7785210e+06],\n",
       "       [1.0000000e+00, 4.3850000e+03, 1.9228225e+07],\n",
       "       [1.0000000e+00, 1.9500000e+03, 3.8025000e+06],\n",
       "       [1.0000000e+00, 2.9050000e+03, 8.4390250e+06],\n",
       "       [1.0000000e+00, 2.6700000e+03, 7.1289000e+06],\n",
       "       [1.0000000e+00, 1.7600000e+03, 3.0976000e+06],\n",
       "       [1.0000000e+00, 1.9680000e+03, 3.8730240e+06],\n",
       "       [1.0000000e+00, 3.5250000e+03, 1.2425625e+07],\n",
       "       [1.0000000e+00, 1.9370000e+03, 3.7519690e+06],\n",
       "       [1.0000000e+00, 2.2020000e+03, 4.8488040e+06],\n",
       "       [1.0000000e+00, 3.6720000e+03, 1.3483584e+07],\n",
       "       [1.0000000e+00, 2.8900000e+03, 8.3521000e+06],\n",
       "       [1.0000000e+00, 3.9070000e+03, 1.5264649e+07],\n",
       "       [1.0000000e+00, 2.4080000e+03, 5.7984640e+06],\n",
       "       [1.0000000e+00, 3.4450000e+03, 1.1868025e+07],\n",
       "       [1.0000000e+00, 3.7300000e+03, 1.3912900e+07],\n",
       "       [1.0000000e+00, 2.8700000e+03, 8.2369000e+06],\n",
       "       [1.0000000e+00, 2.2900000e+03, 5.2441000e+06],\n",
       "       [1.0000000e+00, 3.2110000e+03, 1.0310521e+07],\n",
       "       [1.0000000e+00, 2.1000000e+03, 4.4100000e+06],\n",
       "       [1.0000000e+00, 2.5000000e+03, 6.2500000e+06],\n",
       "       [1.0000000e+00, 2.8650000e+03, 8.2082250e+06],\n",
       "       [1.0000000e+00, 2.6200000e+03, 6.8644000e+06],\n",
       "       [1.0000000e+00, 3.4650000e+03, 1.2006225e+07],\n",
       "       [1.0000000e+00, 2.5150000e+03, 6.3252250e+06],\n",
       "       [1.0000000e+00, 3.0120000e+03, 9.0721440e+06],\n",
       "       [1.0000000e+00, 3.4360000e+03, 1.1806096e+07],\n",
       "       [1.0000000e+00, 4.6990000e+03, 2.2080601e+07],\n",
       "       [1.0000000e+00, 3.2100000e+03, 1.0304100e+07],\n",
       "       [1.0000000e+00, 3.0600000e+03, 9.3636000e+06],\n",
       "       [1.0000000e+00, 4.2780000e+03, 1.8301284e+07],\n",
       "       [1.0000000e+00, 2.8680000e+03, 8.2254240e+06],\n",
       "       [1.0000000e+00, 1.7950000e+03, 3.2220250e+06],\n",
       "       [1.0000000e+00, 2.9300000e+03, 8.5849000e+06],\n",
       "       [1.0000000e+00, 2.1640000e+03, 4.6828960e+06],\n",
       "       [1.0000000e+00, 1.9900000e+03, 3.9601000e+06],\n",
       "       [1.0000000e+00, 2.6710000e+03, 7.1342410e+06],\n",
       "       [1.0000000e+00, 2.2050000e+03, 4.8620250e+06],\n",
       "       [1.0000000e+00, 2.6700000e+03, 7.1289000e+06],\n",
       "       [1.0000000e+00, 2.0460000e+03, 4.1861160e+06],\n",
       "       [1.0000000e+00, 2.8000000e+03, 7.8400000e+06],\n",
       "       [1.0000000e+00, 4.3120000e+03, 1.8593344e+07],\n",
       "       [1.0000000e+00, 3.8500000e+03, 1.4822500e+07],\n",
       "       [1.0000000e+00, 4.9970000e+03, 2.4970009e+07],\n",
       "       [1.0000000e+00, 4.4640000e+03, 1.9927296e+07],\n",
       "       [1.0000000e+00, 4.4640000e+03, 1.9927296e+07],\n",
       "       [1.0000000e+00, 4.7320000e+03, 2.2391824e+07],\n",
       "       [1.0000000e+00, 2.0450000e+03, 4.1820250e+06],\n",
       "       [1.0000000e+00, 3.7550000e+03, 1.4100025e+07],\n",
       "       [1.0000000e+00, 2.4200000e+03, 5.8564000e+06],\n",
       "       [1.0000000e+00, 3.8970000e+03, 1.5186609e+07],\n",
       "       [1.0000000e+00, 2.9140000e+03, 8.4913960e+06],\n",
       "       [1.0000000e+00, 2.6400000e+03, 6.9696000e+06],\n",
       "       [1.0000000e+00, 4.2150000e+03, 1.7766225e+07],\n",
       "       [1.0000000e+00, 3.0700000e+03, 9.4249000e+06],\n",
       "       [1.0000000e+00, 3.9550000e+03, 1.5642025e+07],\n",
       "       [1.0000000e+00, 2.5650000e+03, 6.5792250e+06],\n",
       "       [1.0000000e+00, 3.4590000e+03, 1.1964681e+07],\n",
       "       [1.0000000e+00, 2.1550000e+03, 4.6440250e+06],\n",
       "       [1.0000000e+00, 2.9500000e+03, 8.7025000e+06],\n",
       "       [1.0000000e+00, 2.2640000e+03, 5.1256960e+06],\n",
       "       [1.0000000e+00, 2.7200000e+03, 7.3984000e+06],\n",
       "       [1.0000000e+00, 4.0550000e+03, 1.6443025e+07],\n",
       "       [1.0000000e+00, 4.1410000e+03, 1.7147881e+07],\n",
       "       [1.0000000e+00, 2.9100000e+03, 8.4681000e+06],\n",
       "       [1.0000000e+00, 2.0190000e+03, 4.0763610e+06],\n",
       "       [1.0000000e+00, 2.6390000e+03, 6.9643210e+06],\n",
       "       [1.0000000e+00, 3.0150000e+03, 9.0902250e+06],\n",
       "       [1.0000000e+00, 4.2200000e+03, 1.7808400e+07],\n",
       "       [1.0000000e+00, 4.2950000e+03, 1.8447025e+07],\n",
       "       [1.0000000e+00, 2.7020000e+03, 7.3008040e+06],\n",
       "       [1.0000000e+00, 3.4100000e+03, 1.1628100e+07],\n",
       "       [1.0000000e+00, 2.5600000e+03, 6.5536000e+06],\n",
       "       [1.0000000e+00, 4.0820000e+03, 1.6662724e+07],\n",
       "       [1.0000000e+00, 2.6150000e+03, 6.8382250e+06],\n",
       "       [1.0000000e+00, 3.1390000e+03, 9.8533210e+06],\n",
       "       [1.0000000e+00, 2.3800000e+03, 5.6644000e+06],\n",
       "       [1.0000000e+00, 2.3350000e+03, 5.4522250e+06],\n",
       "       [1.0000000e+00, 2.7110000e+03, 7.3495210e+06],\n",
       "       [1.0000000e+00, 2.5060000e+03, 6.2800360e+06],\n",
       "       [1.0000000e+00, 4.9510000e+03, 2.4512401e+07],\n",
       "       [1.0000000e+00, 4.6330000e+03, 2.1464689e+07],\n",
       "       [1.0000000e+00, 3.8210000e+03, 1.4600041e+07],\n",
       "       [1.0000000e+00, 2.3750000e+03, 5.6406250e+06],\n",
       "       [1.0000000e+00, 2.9650000e+03, 8.7912250e+06],\n",
       "       [1.0000000e+00, 1.9850000e+03, 3.9402250e+06],\n",
       "       [1.0000000e+00, 2.1440000e+03, 4.5967360e+06],\n",
       "       [1.0000000e+00, 4.6570000e+03, 2.1687649e+07],\n",
       "       [1.0000000e+00, 2.7000000e+03, 7.2900000e+06],\n",
       "       [1.0000000e+00, 1.6490000e+03, 2.7192010e+06],\n",
       "       [1.0000000e+00, 3.2700000e+03, 1.0692900e+07],\n",
       "       [1.0000000e+00, 2.1250000e+03, 4.5156250e+06],\n",
       "       [1.0000000e+00, 2.1300000e+03, 4.5369000e+06],\n",
       "       [1.0000000e+00, 4.9520000e+03, 2.4522304e+07],\n",
       "       [1.0000000e+00, 4.0960000e+03, 1.6777216e+07],\n",
       "       [1.0000000e+00, 1.9400000e+03, 3.7636000e+06],\n",
       "       [1.0000000e+00, 3.5300000e+03, 1.2460900e+07],\n",
       "       [1.0000000e+00, 2.1100000e+03, 4.4521000e+06],\n",
       "       [1.0000000e+00, 1.7730000e+03, 3.1435290e+06],\n",
       "       [1.0000000e+00, 2.9570000e+03, 8.7438490e+06],\n",
       "       [1.0000000e+00, 2.4050000e+03, 5.7840250e+06],\n",
       "       [1.0000000e+00, 2.6050000e+03, 6.7860250e+06],\n",
       "       [1.0000000e+00, 3.3810000e+03, 1.1431161e+07],\n",
       "       [1.0000000e+00, 2.0740000e+03, 4.3014760e+06],\n",
       "       [1.0000000e+00, 2.3720000e+03, 5.6263840e+06],\n",
       "       [1.0000000e+00, 3.2300000e+03, 1.0432900e+07],\n",
       "       [1.0000000e+00, 2.8550000e+03, 8.1510250e+06],\n",
       "       [1.0000000e+00, 3.8400000e+03, 1.4745600e+07],\n",
       "       [1.0000000e+00, 3.4330000e+03, 1.1785489e+07],\n",
       "       [1.0000000e+00, 2.2340000e+03, 4.9907560e+06],\n",
       "       [1.0000000e+00, 3.3360000e+03, 1.1128896e+07],\n",
       "       [1.0000000e+00, 3.2210000e+03, 1.0374841e+07],\n",
       "       [1.0000000e+00, 3.6450000e+03, 1.3286025e+07],\n",
       "       [1.0000000e+00, 2.9620000e+03, 8.7734440e+06],\n",
       "       [1.0000000e+00, 1.8450000e+03, 3.4040250e+06],\n",
       "       [1.0000000e+00, 2.2650000e+03, 5.1302250e+06],\n",
       "       [1.0000000e+00, 2.0510000e+03, 4.2066010e+06],\n",
       "       [1.0000000e+00, 4.9550000e+03, 2.4552025e+07],\n",
       "       [1.0000000e+00, 4.3350000e+03, 1.8792225e+07],\n",
       "       [1.0000000e+00, 2.1890000e+03, 4.7917210e+06],\n",
       "       [1.0000000e+00, 2.2550000e+03, 5.0850250e+06],\n",
       "       [1.0000000e+00, 2.0250000e+03, 4.1006250e+06],\n",
       "       [1.0000000e+00, 1.9450000e+03, 3.7830250e+06],\n",
       "       [1.0000000e+00, 2.3000000e+03, 5.2900000e+06],\n",
       "       [1.0000000e+00, 2.3100000e+03, 5.3361000e+06],\n",
       "       [1.0000000e+00, 3.6090000e+03, 1.3024881e+07],\n",
       "       [1.0000000e+00, 2.3910000e+03, 5.7168810e+06],\n",
       "       [1.0000000e+00, 2.7400000e+03, 7.5076000e+06],\n",
       "       [1.0000000e+00, 4.1000000e+03, 1.6810000e+07],\n",
       "       [1.0000000e+00, 1.9850000e+03, 3.9402250e+06],\n",
       "       [1.0000000e+00, 3.6320000e+03, 1.3191424e+07],\n",
       "       [1.0000000e+00, 2.3000000e+03, 5.2900000e+06],\n",
       "       [1.0000000e+00, 2.7450000e+03, 7.5350250e+06],\n",
       "       [1.0000000e+00, 4.0540000e+03, 1.6434916e+07],\n",
       "       [1.0000000e+00, 2.4640000e+03, 6.0712960e+06],\n",
       "       [1.0000000e+00, 2.5950000e+03, 6.7340250e+06],\n",
       "       [1.0000000e+00, 1.7550000e+03, 3.0800250e+06],\n",
       "       [1.0000000e+00, 3.4490000e+03, 1.1895601e+07],\n",
       "       [1.0000000e+00, 3.7810000e+03, 1.4295961e+07],\n",
       "       [1.0000000e+00, 5.1400000e+03, 2.6419600e+07],\n",
       "       [1.0000000e+00, 3.7350000e+03, 1.3950225e+07],\n",
       "       [1.0000000e+00, 4.3600000e+03, 1.9009600e+07],\n",
       "       [1.0000000e+00, 3.3600000e+03, 1.1289600e+07],\n",
       "       [1.0000000e+00, 1.8250000e+03, 3.3306250e+06],\n",
       "       [1.0000000e+00, 3.6130000e+03, 1.3053769e+07],\n",
       "       [1.0000000e+00, 2.0030000e+03, 4.0120090e+06],\n",
       "       [1.0000000e+00, 2.3300000e+03, 5.4289000e+06],\n",
       "       [1.0000000e+00, 2.1580000e+03, 4.6569640e+06],\n",
       "       [1.0000000e+00, 2.3200000e+03, 5.3824000e+06],\n",
       "       [1.0000000e+00, 2.2950000e+03, 5.2670250e+06],\n",
       "       [1.0000000e+00, 2.0450000e+03, 4.1820250e+06],\n",
       "       [1.0000000e+00, 4.2940000e+03, 1.8438436e+07],\n",
       "       [1.0000000e+00, 2.3700000e+03, 5.6169000e+06],\n",
       "       [1.0000000e+00, 1.8000000e+03, 3.2400000e+06],\n",
       "       [1.0000000e+00, 4.7350000e+03, 2.2420225e+07],\n",
       "       [1.0000000e+00, 2.8350000e+03, 8.0372250e+06],\n",
       "       [1.0000000e+00, 4.2370000e+03, 1.7952169e+07],\n",
       "       [1.0000000e+00, 2.1300000e+03, 4.5369000e+06],\n",
       "       [1.0000000e+00, 3.2650000e+03, 1.0660225e+07],\n",
       "       [1.0000000e+00, 3.9400000e+03, 1.5523600e+07],\n",
       "       [1.0000000e+00, 2.6780000e+03, 7.1716840e+06],\n",
       "       [1.0000000e+00, 2.2280000e+03, 4.9639840e+06],\n",
       "       [1.0000000e+00, 2.2650000e+03, 5.1302250e+06],\n",
       "       [1.0000000e+00, 4.2570000e+03, 1.8122049e+07],\n",
       "       [1.0000000e+00, 3.7770000e+03, 1.4265729e+07],\n",
       "       [1.0000000e+00, 4.4980000e+03, 2.0232004e+07],\n",
       "       [1.0000000e+00, 3.7250000e+03, 1.3875625e+07],\n",
       "       [1.0000000e+00, 2.3850000e+03, 5.6882250e+06],\n",
       "       [1.0000000e+00, 2.0500000e+03, 4.2025000e+06],\n",
       "       [1.0000000e+00, 2.2190000e+03, 4.9239610e+06],\n",
       "       [1.0000000e+00, 2.7200000e+03, 7.3984000e+06],\n",
       "       [1.0000000e+00, 3.0860000e+03, 9.5233960e+06],\n",
       "       [1.0000000e+00, 2.5110000e+03, 6.3051210e+06],\n",
       "       [1.0000000e+00, 2.1600000e+03, 4.6656000e+06],\n",
       "       [1.0000000e+00, 2.9450000e+03, 8.6730250e+06],\n",
       "       [1.0000000e+00, 2.6940000e+03, 7.2576360e+06],\n",
       "       [1.0000000e+00, 2.2450000e+03, 5.0400250e+06],\n",
       "       [1.0000000e+00, 3.5740000e+03, 1.2773476e+07],\n",
       "       [1.0000000e+00, 2.6340000e+03, 6.9379560e+06],\n",
       "       [1.0000000e+00, 4.2740000e+03, 1.8267076e+07],\n",
       "       [1.0000000e+00, 2.6600000e+03, 7.0756000e+06],\n",
       "       [1.0000000e+00, 3.4150000e+03, 1.1662225e+07],\n",
       "       [1.0000000e+00, 1.8750000e+03, 3.5156250e+06],\n",
       "       [1.0000000e+00, 1.6130000e+03, 2.6017690e+06],\n",
       "       [1.0000000e+00, 1.9850000e+03, 3.9402250e+06],\n",
       "       [1.0000000e+00, 2.3500000e+03, 5.5225000e+06],\n",
       "       [1.0000000e+00, 2.7740000e+03, 7.6950760e+06],\n",
       "       [1.0000000e+00, 2.5250000e+03, 6.3756250e+06],\n",
       "       [1.0000000e+00, 4.1540000e+03, 1.7255716e+07],\n",
       "       [1.0000000e+00, 3.4300000e+03, 1.1764900e+07],\n",
       "       [1.0000000e+00, 4.0980000e+03, 1.6793604e+07],\n",
       "       [1.0000000e+00, 4.4250000e+03, 1.9580625e+07],\n",
       "       [1.0000000e+00, 2.7900000e+03, 7.7841000e+06],\n",
       "       [1.0000000e+00, 3.8800000e+03, 1.5054400e+07],\n",
       "       [1.0000000e+00, 4.6680000e+03, 2.1790224e+07],\n",
       "       [1.0000000e+00, 2.8070000e+03, 7.8792490e+06],\n",
       "       [1.0000000e+00, 2.3950000e+03, 5.7360250e+06],\n",
       "       [1.0000000e+00, 2.4340000e+03, 5.9243560e+06],\n",
       "       [1.0000000e+00, 2.8330000e+03, 8.0258890e+06],\n",
       "       [1.0000000e+00, 3.1020000e+03, 9.6224040e+06],\n",
       "       [1.0000000e+00, 4.0800000e+03, 1.6646400e+07]])"
      ]
     },
     "metadata": {},
     "output_type": "display_data"
    },
    {
     "name": "stdout",
     "output_type": "stream",
     "text": [
      "원본 데이터:  (278, 1)\n",
      "2차항 변환 데이터:  (278, 3)\n"
     ]
    }
   ],
   "execution_count": 24
  },
  {
   "metadata": {},
   "cell_type": "markdown",
   "source": [
    "`LinearRegression()` 함수로 회귀분석 모형 객체를 생성하고, 2차항으로 변환된 훈련 데이터 (`X_train_poly`, `y_train`)를 `fit()` 메서드에 전달하여 `pr` 모형을 학습시킨다.\n",
    "\n",
    "모형 학습이 완료되면 검증 데이터를 사용하여 모형의 예측 능력을 평가한다. 검증 데이터 또한 `poly` 객체를 사용하여 2차항으로 변환해주어야 한다. `score()` 메서드로 모형의 결정계수를 구한다.\n",
    "\n",
    "단순선형회귀 분석에서는 0.689였던 결정계수가 0.726으로 향상되었다. 평가지표상으로는 모델의 예측력이 개선된 것으로 해석할 수 있다."
   ],
   "id": "40bd86ae30b33a76"
  },
  {
   "metadata": {
    "ExecuteTime": {
     "end_time": "2024-08-19T09:34:54.113680Z",
     "start_time": "2024-08-19T09:34:54.108415Z"
    }
   },
   "cell_type": "code",
   "source": [
    "# train data를 가지고 모형 학습\n",
    "pr = LinearRegression()\n",
    "pr.fit(X_train_poly, y_train)\n",
    "\n",
    "# 학습을 마친 모형에 test data를 적용하여 결정계수(R-제곱) 계산\n",
    "X_test_poly = poly.fit_transform(X_test)  #X_test 데이터를 2차항으로 변형\n",
    "r_square = pr.score(X_test_poly, y_test)\n",
    "print('R^2 결정계수: ', r_square)\n",
    "# R^2 결정계수:  0.7255470154177004"
   ],
   "id": "e228c52676f46774",
   "outputs": [
    {
     "name": "stdout",
     "output_type": "stream",
     "text": [
      "R^2 결정계수:  0.7255470154177004\n"
     ]
    }
   ],
   "execution_count": 26
  },
  {
   "metadata": {},
   "cell_type": "markdown",
   "source": "훈련 데이터의 분포와 학습된 모형의 회귀선을 그래프로 출력해서 비교해보자. 2차항으로 변환된 검증 데이터(`X_test_poly`)를 `predict()` 메서드에 입력하여 예측한 결과인 `y_hat_test`를 빨간점(`+`)으로 표시하면 회귀선이 된다. 모형의 결정계수가 높아진 것에도 알 수 있듯이 직선으로 표시된 단순회귀분석에 비해 데이터의 패턴을 더욱 잘 설명한다고 말할 수 있다.",
   "id": "e04564091e70926"
  },
  {
   "metadata": {
    "ExecuteTime": {
     "end_time": "2024-08-19T09:40:40.077838Z",
     "start_time": "2024-08-19T09:40:39.978225Z"
    }
   },
   "cell_type": "code",
   "source": [
    "y_hat_test = pr.predict(X_test_poly)\n",
    "print(y_hat_test)\n",
    "\n",
    "fig, axe = plt.subplots(1, 1, figsize=(10, 5))\n",
    "axe.plot(X_train, y_train, 'o', label='Train Data')\n",
    "axe.plot(X_test, y_hat_test, 'r+', label='Predicted Value')\n",
    "axe.legend(loc='best')\n",
    "plt.xlabel('weight')\n",
    "plt.ylabel('mpg')"
   ],
   "id": "d6137c5a239ab98c",
   "outputs": [
    {
     "name": "stdout",
     "output_type": "stream",
     "text": [
      "[30.73115148 30.95768877 29.98516501 30.62372128 32.82683675 32.65762232\n",
      " 29.22218255 16.44326345 32.73650872 28.29247608 26.30412998 29.90080455\n",
      " 32.71395541 24.0354647  25.68314094 24.34494496 22.75729161 15.03514169\n",
      " 12.45600038 27.19060312 20.3545186  12.77128562 32.48905342 20.63380807\n",
      " 24.97444912 27.36688385 24.16766874 21.32955729 26.27563208 25.89812748\n",
      " 17.51627469 13.96808816 29.93241821 13.87154917 34.20379126 26.65772712\n",
      " 31.60092158 16.04371142 19.26250205 13.52807829 32.32113006 25.52521331\n",
      " 17.64954581 20.30959852 33.28123115 34.19214594 18.55003261 14.09746574\n",
      " 24.88365925 17.09341179 21.59844378 19.31202688 21.29029488 20.3845227\n",
      " 32.54517133 33.1672022  20.94016092 15.4866741  32.43300724 29.09822398\n",
      " 29.86921672 23.1706013  34.02941259 15.39147194 31.54602301 16.27030545\n",
      " 23.64272576 17.91988376 16.31617511 28.07127807 19.49720704 31.00098219\n",
      " 23.04334633 23.39270579 31.60092158 30.89283473 14.61014197 21.21980331\n",
      " 15.00480199 13.84546135 32.09823639 32.60136096 27.20037211 22.40850885\n",
      " 33.03074617 32.88338501 26.2092374  21.88676209 20.72523193 20.48989855\n",
      " 32.71395541 13.53220391 17.78408216 13.85414582 18.36161338 23.14509867\n",
      " 25.80446858 19.21311781 34.67195697 28.13146709 29.32579696 15.77785796\n",
      " 30.03798354 30.24997493 31.49119616 23.04334633 22.2605798  13.9284271\n",
      " 19.41862489 16.94733346 30.89283473 21.36889141 31.93181926 13.67418207\n",
      " 30.94687259 26.25664783 18.65189674 14.97959779 29.57564209 29.4609246 ]\n"
     ]
    },
    {
     "data": {
      "text/plain": [
       "Text(0, 0.5, 'mpg')"
      ]
     },
     "execution_count": 32,
     "metadata": {},
     "output_type": "execute_result"
    },
    {
     "data": {
      "text/plain": [
       "<Figure size 1000x500 with 1 Axes>"
      ],
      "image/png": "[encoded data removed]"
     },
     "metadata": {},
     "output_type": "display_data"
    }
   ],
   "execution_count": 32
  },
  {
   "metadata": {},
   "cell_type": "markdown",
   "source": "실제값 `y_test`와 모델의 예측값 `y_hat_test`의 차이를 제곱한 `squared_error` 열의 평균을 계산하여 평균 제곱 오차(MSE)를 측정할 수 있다. 단순 선형회귀에서는 17.897이었는데 다항 선형회귀에서는 15.814로 오차가 감소했다. 결정계수가 개선된 것과 같은 해석이 가능하다.",
   "id": "271f925e09860ad7"
  },
  {
   "metadata": {
    "ExecuteTime": {
     "end_time": "2024-08-19T09:43:50.215464Z",
     "start_time": "2024-08-19T09:43:50.209183Z"
    }
   },
   "cell_type": "code",
   "source": [
    "# 모델에 test data 데이터를 입력하여 예측한 값 y_hat_test를 실제 값 y_test와 비교 \n",
    "X_ploy = poly.fit_transform(X_test)\n",
    "\n",
    "# 오차 계산\n",
    "test_preds = pd.DataFrame(y_test)\n",
    "test_preds.columns = ['y_test']\n",
    "test_preds['y_hat'] = y_hat_test\n",
    "test_preds['squared_error'] = (test_preds['y_hat'] - test_preds['y_test']) ** 2\n",
    "display(test_preds)\n",
    "\n",
    "# 평균 제곱 오차\n",
    "mse = test_preds['squared_error'].mean()\n",
    "print('mse: ', mse)"
   ],
   "id": "72de5f3d9d4c9f7d",
   "outputs": [
    {
     "data": {
      "text/plain": [
       "     y_test      y_hat  squared_error\n",
       "331    33.8  30.731151       9.417831\n",
       "111    18.0  30.957689     167.901698\n",
       "350    34.7  29.985165      22.229669\n",
       "205    28.0  30.623721       6.883913\n",
       "56     26.0  32.826837      46.605700\n",
       "..      ...        ...            ...\n",
       "17     21.0  26.256648      27.632346\n",
       "225    17.5  18.651897       1.326866\n",
       "223    15.5  14.979598       0.270818\n",
       "59     23.0  29.575642      43.239069\n",
       "114    26.0  29.460925      11.977999\n",
       "\n",
       "[120 rows x 3 columns]"
      ],
      "text/html": [
       "<div>\n",
       "<style scoped>\n",
       "    .dataframe tbody tr th:only-of-type {\n",
       "        vertical-align: middle;\n",
       "    }\n",
       "\n",
       "    .dataframe tbody tr th {\n",
       "        vertical-align: top;\n",
       "    }\n",
       "\n",
       "    .dataframe thead th {\n",
       "        text-align: right;\n",
       "    }\n",
       "</style>\n",
       "<table border=\"1\" class=\"dataframe\">\n",
       "  <thead>\n",
       "    <tr style=\"text-align: right;\">\n",
       "      <th></th>\n",
       "      <th>y_test</th>\n",
       "      <th>y_hat</th>\n",
       "      <th>squared_error</th>\n",
       "    </tr>\n",
       "  </thead>\n",
       "  <tbody>\n",
       "    <tr>\n",
       "      <th>331</th>\n",
       "      <td>33.8</td>\n",
       "      <td>30.731151</td>\n",
       "      <td>9.417831</td>\n",
       "    </tr>\n",
       "    <tr>\n",
       "      <th>111</th>\n",
       "      <td>18.0</td>\n",
       "      <td>30.957689</td>\n",
       "      <td>167.901698</td>\n",
       "    </tr>\n",
       "    <tr>\n",
       "      <th>350</th>\n",
       "      <td>34.7</td>\n",
       "      <td>29.985165</td>\n",
       "      <td>22.229669</td>\n",
       "    </tr>\n",
       "    <tr>\n",
       "      <th>205</th>\n",
       "      <td>28.0</td>\n",
       "      <td>30.623721</td>\n",
       "      <td>6.883913</td>\n",
       "    </tr>\n",
       "    <tr>\n",
       "      <th>56</th>\n",
       "      <td>26.0</td>\n",
       "      <td>32.826837</td>\n",
       "      <td>46.605700</td>\n",
       "    </tr>\n",
       "    <tr>\n",
       "      <th>...</th>\n",
       "      <td>...</td>\n",
       "      <td>...</td>\n",
       "      <td>...</td>\n",
       "    </tr>\n",
       "    <tr>\n",
       "      <th>17</th>\n",
       "      <td>21.0</td>\n",
       "      <td>26.256648</td>\n",
       "      <td>27.632346</td>\n",
       "    </tr>\n",
       "    <tr>\n",
       "      <th>225</th>\n",
       "      <td>17.5</td>\n",
       "      <td>18.651897</td>\n",
       "      <td>1.326866</td>\n",
       "    </tr>\n",
       "    <tr>\n",
       "      <th>223</th>\n",
       "      <td>15.5</td>\n",
       "      <td>14.979598</td>\n",
       "      <td>0.270818</td>\n",
       "    </tr>\n",
       "    <tr>\n",
       "      <th>59</th>\n",
       "      <td>23.0</td>\n",
       "      <td>29.575642</td>\n",
       "      <td>43.239069</td>\n",
       "    </tr>\n",
       "    <tr>\n",
       "      <th>114</th>\n",
       "      <td>26.0</td>\n",
       "      <td>29.460925</td>\n",
       "      <td>11.977999</td>\n",
       "    </tr>\n",
       "  </tbody>\n",
       "</table>\n",
       "<p>120 rows × 3 columns</p>\n",
       "</div>"
      ]
     },
     "metadata": {},
     "output_type": "display_data"
    },
    {
     "name": "stdout",
     "output_type": "stream",
     "text": [
      "mse:  15.813520500513526\n"
     ]
    }
   ],
   "execution_count": 36
  },
  {
   "metadata": {},
   "cell_type": "markdown",
   "source": "`sklearn`의 `mean_squared_error()` 함수를 사용하면 평균 제곱 오차(MSE)를 간편하게 구할 수 있다.  `mean_squared_error()` 함수의 인자로 실제값(`y_test`)과 예측값(`y_hat_test`)을 순서대로 입력하면 앞에서 계산한 MSE와 동일한 값을 얻는다.",
   "id": "58b21882e81effa"
  },
  {
   "metadata": {
    "ExecuteTime": {
     "end_time": "2024-08-19T09:45:57.297106Z",
     "start_time": "2024-08-19T09:45:57.294747Z"
    }
   },
   "cell_type": "code",
   "source": [
    "# 사이킷런 함수 활용 (평균 제곱 오차)\n",
    "from sklearn.metrics import mean_squared_error\n",
    "\n",
    "mse = mean_squared_error(y_test, y_hat_test)\n",
    "print('mse: ', mse)"
   ],
   "id": "8f1b2265435244fc",
   "outputs": [
    {
     "name": "stdout",
     "output_type": "stream",
     "text": [
      "mse:  15.813520500513526\n"
     ]
    }
   ],
   "execution_count": 37
  },
  {
   "metadata": {},
   "cell_type": "markdown",
   "source": "다음은 `sklearn`의 `mean_absolute_error()` 함수를 사용해서 회귀모델의 평가지표 중 하나인 평균 절대값 오차(MAE: Mean Absolute Error)를 계산하는 방법이다.",
   "id": "67db5b702e5a6066"
  },
  {
   "metadata": {
    "ExecuteTime": {
     "end_time": "2024-08-19T09:46:59.039460Z",
     "start_time": "2024-08-19T09:46:59.037065Z"
    }
   },
   "cell_type": "code",
   "source": [
    "# 평균 절대값 오차\n",
    "from sklearn.metrics import mean_absolute_error\n",
    "\n",
    "mae = mean_absolute_error(y_test, y_hat_test)\n",
    "print('mae: ', mae)"
   ],
   "id": "65321704c65a1f1a",
   "outputs": [
    {
     "name": "stdout",
     "output_type": "stream",
     "text": [
      "mae:  3.140565073444954\n"
     ]
    }
   ],
   "execution_count": 38
  },
  {
   "metadata": {},
   "cell_type": "markdown",
   "source": "시각화를 통해 모델의 예측 성능과 오차의 특성을 분석해보자. 회귀 플롯과 커널 밀도 그래프를 보면 평가지표가 개선된 것과 다르게 단순 선형회귀분석 결과와 큰 차이가 없어보인다. 특히 커널 밀도 그래프의 오차 분포를 보면 200까지 위치한 것을 볼 수 있다. 단순 선형회귀분석에서는 오차가 최대 160 정도였던 점을 감안하면, 특정 데이터에 대해서는 예측력이 떨어진 것으로 보인다.",
   "id": "c8bc68d112cc0b23"
  },
  {
   "metadata": {
    "ExecuteTime": {
     "end_time": "2024-08-19T09:47:48.863753Z",
     "start_time": "2024-08-19T09:47:48.605517Z"
    }
   },
   "cell_type": "code",
   "source": [
    "# 오차 분석\n",
    "fig, axes = plt.subplots(1, 2, figsize=(10, 5))\n",
    "sns.regplot(x='y_test', y='y_hat', data=test_preds, ax=axes[0]);\n",
    "sns.kdeplot(x='squared_error', data=test_preds, ax=axes[1]);"
   ],
   "id": "efca34e450b75716",
   "outputs": [
    {
     "data": {
      "text/plain": [
       "<Figure size 1000x500 with 2 Axes>"
      ],
      "image/png": "[encoded data removed]"
     },
     "metadata": {},
     "output_type": "display_data"
    }
   ],
   "execution_count": 39
  }
 ],
 "metadata": {
  "kernelspec": {
   "display_name": "Python 3",
   "language": "python",
   "name": "python3"
  },
  "language_info": {
   "codemirror_mode": {
    "name": "ipython",
    "version": 2
   },
   "file_extension": ".py",
   "mimetype": "text/x-python",
   "name": "python",
   "nbconvert_exporter": "python",
   "pygments_lexer": "ipython2",
   "version": "2.7.6"
  }
 },
 "nbformat": 4,
 "nbformat_minor": 5
}
