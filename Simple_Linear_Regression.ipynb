{
 "cells": [
  {
   "metadata": {},
   "cell_type": "markdown",
   "source": [
    "# Auto-MPG 데이터셋 소개\n",
    "Auto-MPG 데이터셋은 1970년대 후반과 1980년대 초반에 생산된 자동차의 연비(MPG, Miles Per Gallon)를 예측하는 데 사용되는 대표적인 데이터셋이다. \n",
    "\n",
    "## 데이터셋의 구성\n",
    "Auto-MPG 데이터셋은 다음과 같은 주요 특징들을 포함한다.\n",
    "- 데이터 수: 398개의 데이터 포인트(레코드)가 있다.\n",
    "- 변수 수: 총 9개의 변수(컬럼)가 포함되어 있다.\n",
    "\n",
    "## 변수 설명\n",
    "| 변수            | 설명                                                                 | 변수 유형            | 비고                       |\n",
    "|-----------------|----------------------------------------------------------------------|----------------------|----------------------------|\n",
    "| `mpg`           | 자동차의 연비를 나타낸다. 단위는 Miles per Gallon (MPG)이다.       | 종속 변수 (연속형)   | 예측 목표                   |\n",
    "| `cylinders`     | 엔진의 실린더 수를 나타낸다.                                         | 범주형 변수           | 정수 값으로 표현 (예: 4, 6, 8) |\n",
    "| `displacement`  | 엔진의 배기량을 나타낸다. 단위는 cubic inches이다.                   | 연속형 변수           | 실수 값으로 표현            |\n",
    "| `horsepower`    | 엔진의 마력을 나타낸다. 단위는 horsepower이다.                      | 연속형 변수           | 결측치 포함 가능            |\n",
    "| `weight`        | 차량의 무게를 나타낸다. 단위는 pounds이다.                           | 연속형 변수           | 실수 값으로 표현            |\n",
    "| `acceleration`  | 0에서 60마일에 도달하는 데 걸리는 시간을 나타낸다. 단위는 seconds이다. | 연속형 변수           | 실수 값으로 표현            |\n",
    "| `model year`    | 자동차 모델이 제작된 연도를 나타낸다.                                | 범주형 변수           | 정수 값으로 표현            |\n",
    "| `origin`        | 자동차 제조국을 나타낸다.                                           | 범주형 변수           | 1: 미국, 2: 유럽, 3: 일본  |\n",
    "| `car name`      | 자동차의 이름(브랜드 및 모델)을 나타낸다.                            | 문자열 변수           | 고유한 문자열로 표현        |\n"
   ],
   "id": "48347819d1fde887"
  },
  {
   "metadata": {},
   "cell_type": "code",
   "outputs": [],
   "execution_count": null,
   "source": "",
   "id": "2551612a232e51c2"
  }
 ],
 "metadata": {
  "kernelspec": {
   "display_name": "Python 3",
   "language": "python",
   "name": "python3"
  },
  "language_info": {
   "codemirror_mode": {
    "name": "ipython",
    "version": 2
   },
   "file_extension": ".py",
   "mimetype": "text/x-python",
   "name": "python",
   "nbconvert_exporter": "python",
   "pygments_lexer": "ipython2",
   "version": "2.7.6"
  }
 },
 "nbformat": 4,
 "nbformat_minor": 5
}
