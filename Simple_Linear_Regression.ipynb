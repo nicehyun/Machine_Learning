{
 "cells": [
  {
   "metadata": {},
   "cell_type": "markdown",
   "source": [
    "# Auto-MPG 데이터셋 소개\n",
    "Auto-MPG 데이터셋은 1970년대 후반과 1980년대 초반에 생산된 자동차의 연비(MPG, Miles Per Gallon)를 예측하는 데 사용되는 대표적인 데이터셋이다. \n",
    "\n",
    "## 데이터셋의 구성\n",
    "Auto-MPG 데이터셋은 다음과 같은 주요 특징들을 포함한다.\n",
    "- 데이터 수: 398개의 데이터 포인트(레코드)가 있다.\n",
    "- 변수 수: 총 9개의 변수(컬럼)가 포함되어 있다.\n",
    "\n",
    "## 변수 설명\n",
    "`mpg` (연비):\n",
    "- 설명: 자동차의 연비를 나타낸다. 단위는 Miles per Gallon (MPG)이다.\n",
    "- 종속 변수: 일반적으로 연비를 예측하는 것이 목표이므로 종속 변수로 사용된다.\n",
    "</br>\n",
    "`cylinders` (실린더 수):\n",
    "- 설명: 엔진의 실린더 수를 나타낸다.\n",
    "- 범주형 변수: 일반적으로 정수 값으로 표현된다. 예: 4, 6, 8 등.\n",
    "</br>\n",
    "`displacement` (배기량):\n",
    "- 설명: 엔진의 배기량을 나타낸다. 단위는 cubic inches이다.\n",
    "- 연속형 변수: 실수 값으로 표현된다.\n",
    "</br>\n",
    "`horsepower` (마력):\n",
    "- 설명: 엔진의 마력을 나타낸다. 단위는 horsepower이다.\n",
    "- 연속형 변수: 실수 값으로 표현된다.\n",
    "- 결측치: 일부 레코드에 결측치(?)가 포함되어 있을 수 있다.\n",
    "</br>\n",
    "`weight` (차량 무게):\n",
    "- 설명: 차량의 무게를 나타낸다. 단위는 pounds이다.\n",
    "- 연속형 변수: 실수 값으로 표현된다.\n",
    "</br>\n",
    "`acceleration` (가속 시간):\n",
    "- 설명: 0에서 60마일(시속 0에서 60마일)에 도달하는 데 걸리는 시간을 나타낸다. 단위는 seconds이다.\n",
    "- 연속형 변수: 실수 값으로 표현된다.\n",
    "</br>\n",
    "`model year` (모델 연도):\n",
    "- 설명: 자동차 모델이 제작된 연도를 나타낸다. 예: 70, 71, 80 등.\n",
    "- 범주형 변수: 연도를 나타내는 정수 값으로 표현된다.\n",
    "</br>\n",
    "`origin` (제조국):\n",
    "- 설명: 자동차 제조국을 나타낸다.\n",
    "1: 미국\n",
    "2: 유럽\n",
    "3: 일본\n",
    "- 범주형 변수: 정수 값으로 표현된다.\n",
    "</br>\n",
    "`car name` (자동차 이름):\n",
    "- 설명: 자동차의 이름(브랜드 및 모델)을 나타낸다.\n",
    "- 문자열 변수: 고유한 문자열로 표현된다."
   ],
   "id": "48347819d1fde887"
  },
  {
   "metadata": {},
   "cell_type": "code",
   "outputs": [],
   "execution_count": null,
   "source": "",
   "id": "2551612a232e51c2"
  }
 ],
 "metadata": {
  "kernelspec": {
   "display_name": "Python 3",
   "language": "python",
   "name": "python3"
  },
  "language_info": {
   "codemirror_mode": {
    "name": "ipython",
    "version": 2
   },
   "file_extension": ".py",
   "mimetype": "text/x-python",
   "name": "python",
   "nbconvert_exporter": "python",
   "pygments_lexer": "ipython2",
   "version": "2.7.6"
  }
 },
 "nbformat": 4,
 "nbformat_minor": 5
}
